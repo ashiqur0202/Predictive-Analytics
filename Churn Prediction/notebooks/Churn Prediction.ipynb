{
 "cells": [
  {
   "cell_type": "code",
   "execution_count": 34,
   "id": "3bf71f8b-d2bd-4a1b-96de-b0b254113709",
   "metadata": {
    "tags": []
   },
   "outputs": [],
   "source": [
    "# Import necessary libraries\n",
    "import pandas as pd\n",
    "import numpy as np\n",
    "\n",
    "import matplotlib.pyplot as plt\n",
    "import seaborn as sns\n",
    "from datetime import datetime\n",
    "from sklearn.preprocessing import LabelEncoder\n"
   ]
  },
  {
   "cell_type": "code",
   "execution_count": 35,
   "id": "7870f5f1-62ce-4810-8c6a-0b5269eb8101",
   "metadata": {
    "tags": []
   },
   "outputs": [],
   "source": [
    "# Load the dataset\n",
    "df = pd.read_csv(\"../data/raw/new_raw.csv\")"
   ]
  },
  {
   "cell_type": "code",
   "execution_count": 36,
   "id": "7d8395c4-4884-455a-999d-79a598b0907f",
   "metadata": {
    "tags": []
   },
   "outputs": [
    {
     "data": {
      "text/html": [
       "<div>\n",
       "<style scoped>\n",
       "    .dataframe tbody tr th:only-of-type {\n",
       "        vertical-align: middle;\n",
       "    }\n",
       "\n",
       "    .dataframe tbody tr th {\n",
       "        vertical-align: top;\n",
       "    }\n",
       "\n",
       "    .dataframe thead th {\n",
       "        text-align: right;\n",
       "    }\n",
       "</style>\n",
       "<table border=\"1\" class=\"dataframe\">\n",
       "  <thead>\n",
       "    <tr style=\"text-align: right;\">\n",
       "      <th></th>\n",
       "      <th>Unnamed: 0</th>\n",
       "      <th>account_number</th>\n",
       "      <th>txn_type</th>\n",
       "      <th>txn_amount</th>\n",
       "      <th>txn_date</th>\n",
       "    </tr>\n",
       "  </thead>\n",
       "  <tbody>\n",
       "    <tr>\n",
       "      <th>0</th>\n",
       "      <td>588554</td>\n",
       "      <td>45362193617429</td>\n",
       "      <td>cash_out</td>\n",
       "      <td>200.0</td>\n",
       "      <td>2023-01-01</td>\n",
       "    </tr>\n",
       "    <tr>\n",
       "      <th>1</th>\n",
       "      <td>23850</td>\n",
       "      <td>36719203270752</td>\n",
       "      <td>cash_out</td>\n",
       "      <td>1500.0</td>\n",
       "      <td>2023-01-01</td>\n",
       "    </tr>\n",
       "    <tr>\n",
       "      <th>2</th>\n",
       "      <td>201141</td>\n",
       "      <td>87762884753616</td>\n",
       "      <td>cash_out</td>\n",
       "      <td>5000.0</td>\n",
       "      <td>2023-01-01</td>\n",
       "    </tr>\n",
       "    <tr>\n",
       "      <th>3</th>\n",
       "      <td>720924</td>\n",
       "      <td>52519990044314</td>\n",
       "      <td>cash_in</td>\n",
       "      <td>100.0</td>\n",
       "      <td>2023-01-01</td>\n",
       "    </tr>\n",
       "    <tr>\n",
       "      <th>4</th>\n",
       "      <td>168233</td>\n",
       "      <td>61892039211190</td>\n",
       "      <td>cash_in</td>\n",
       "      <td>310.0</td>\n",
       "      <td>2023-01-01</td>\n",
       "    </tr>\n",
       "  </tbody>\n",
       "</table>\n",
       "</div>"
      ],
      "text/plain": [
       "   Unnamed: 0  account_number  txn_type  txn_amount    txn_date\n",
       "0      588554  45362193617429  cash_out       200.0  2023-01-01\n",
       "1       23850  36719203270752  cash_out      1500.0  2023-01-01\n",
       "2      201141  87762884753616  cash_out      5000.0  2023-01-01\n",
       "3      720924  52519990044314   cash_in       100.0  2023-01-01\n",
       "4      168233  61892039211190   cash_in       310.0  2023-01-01"
      ]
     },
     "execution_count": 36,
     "metadata": {},
     "output_type": "execute_result"
    }
   ],
   "source": [
    "df.head()"
   ]
  },
  {
   "cell_type": "markdown",
   "id": "ca516e7f-b2d3-4fee-93b9-61acb76e9cb1",
   "metadata": {},
   "source": [
    "### Data Exploration and Preprocessing\n",
    "\n",
    "- **Data Cleaning:**\n",
    "  - Handled missing values, outliers, and inconsistencies.\n",
    "  - Ensured data integrity for accurate predictions."
   ]
  },
  {
   "cell_type": "code",
   "execution_count": 37,
   "id": "adad27c6-ff97-4e8d-84bb-7f75bc1aa0e8",
   "metadata": {
    "tags": []
   },
   "outputs": [
    {
     "name": "stdout",
     "output_type": "stream",
     "text": [
      "Original Dataset Info:\n",
      "<class 'pandas.core.frame.DataFrame'>\n",
      "RangeIndex: 750000 entries, 0 to 749999\n",
      "Data columns (total 5 columns):\n",
      " #   Column          Non-Null Count   Dtype  \n",
      "---  ------          --------------   -----  \n",
      " 0   Unnamed: 0      750000 non-null  int64  \n",
      " 1   account_number  750000 non-null  int64  \n",
      " 2   txn_type        750000 non-null  object \n",
      " 3   txn_amount      750000 non-null  float64\n",
      " 4   txn_date        750000 non-null  object \n",
      "dtypes: float64(1), int64(2), object(2)\n",
      "memory usage: 28.6+ MB\n",
      "None\n"
     ]
    }
   ],
   "source": [
    "# Display basic information about the dataset\n",
    "print(\"Original Dataset Info:\")\n",
    "print(df.info())"
   ]
  },
  {
   "cell_type": "code",
   "execution_count": 38,
   "id": "837da56d-bcd2-4792-b8b5-98f5a6c5cf22",
   "metadata": {
    "tags": []
   },
   "outputs": [],
   "source": [
    "# Droping Unnamed: 0 columns\n",
    "df=df.drop(columns=\"Unnamed: 0\")"
   ]
  },
  {
   "cell_type": "code",
   "execution_count": 39,
   "id": "ccdfd34c-bdb6-4e5e-9b13-d91bbcdfcb8f",
   "metadata": {
    "tags": []
   },
   "outputs": [],
   "source": [
    "# Checking for data integrity\n",
    "# For example, ensuring 'txn_date' is in the correct format\n",
    "df['txn_date'] = pd.to_datetime(df['txn_date'], errors='coerce')"
   ]
  },
  {
   "cell_type": "code",
   "execution_count": 40,
   "id": "ef26a632-0eb0-4e94-9194-2de41bea1b36",
   "metadata": {
    "tags": []
   },
   "outputs": [
    {
     "data": {
      "text/plain": [
       "count    750000.000000\n",
       "mean       5975.583206\n",
       "std        8923.223388\n",
       "min          10.000000\n",
       "25%         295.000000\n",
       "50%        1000.000000\n",
       "75%        8000.000000\n",
       "max      100000.000000\n",
       "Name: txn_amount, dtype: float64"
      ]
     },
     "execution_count": 40,
     "metadata": {},
     "output_type": "execute_result"
    }
   ],
   "source": [
    "df[\"txn_amount\"].describe()"
   ]
  },
  {
   "cell_type": "code",
   "execution_count": 41,
   "id": "904a413a-4bed-4b9a-bda1-f23b3c7528bc",
   "metadata": {
    "tags": []
   },
   "outputs": [],
   "source": [
    "# Handling outliers\n",
    "Q1 = df['txn_amount'].quantile(0.25)\n",
    "Q3 = df['txn_amount'].quantile(0.75)\n",
    "IQR = Q3 - Q1\n",
    "lower_bound = Q1 - 1.5 * IQR\n",
    "upper_bound = Q3 + 1.5 * IQR\n",
    "\n",
    "df = df[(df['txn_amount'] >= lower_bound) & (df['txn_amount'] <= upper_bound)]"
   ]
  },
  {
   "cell_type": "code",
   "execution_count": 42,
   "id": "a0656571-2502-4818-96e3-c94c6259fc1c",
   "metadata": {
    "tags": []
   },
   "outputs": [
    {
     "name": "stdout",
     "output_type": "stream",
     "text": [
      "\n",
      "Processed Dataset Info:\n",
      "<class 'pandas.core.frame.DataFrame'>\n",
      "Index: 626479 entries, 0 to 749999\n",
      "Data columns (total 4 columns):\n",
      " #   Column          Non-Null Count   Dtype         \n",
      "---  ------          --------------   -----         \n",
      " 0   account_number  626479 non-null  int64         \n",
      " 1   txn_type        626479 non-null  object        \n",
      " 2   txn_amount      626479 non-null  float64       \n",
      " 3   txn_date        626479 non-null  datetime64[ns]\n",
      "dtypes: datetime64[ns](1), float64(1), int64(1), object(1)\n",
      "memory usage: 23.9+ MB\n",
      "None\n"
     ]
    }
   ],
   "source": [
    "# Display updated dataset information after preprocessing\n",
    "print(\"\\nProcessed Dataset Info:\")\n",
    "print(df.info())"
   ]
  },
  {
   "cell_type": "code",
   "execution_count": 43,
   "id": "2dce2aa9-74da-484d-bce8-36435a25e24d",
   "metadata": {
    "tags": []
   },
   "outputs": [
    {
     "data": {
      "text/plain": [
       "count    626479.000000\n",
       "mean       2319.716062\n",
       "std        3665.750942\n",
       "min          10.000000\n",
       "25%         205.000000\n",
       "50%         570.000000\n",
       "75%        2500.000000\n",
       "max       19554.000000\n",
       "Name: txn_amount, dtype: float64"
      ]
     },
     "execution_count": 43,
     "metadata": {},
     "output_type": "execute_result"
    }
   ],
   "source": [
    "df[\"txn_amount\"].describe()"
   ]
  },
  {
   "cell_type": "code",
   "execution_count": 44,
   "id": "3f83aa3f-525f-4d5d-826c-34e737de8002",
   "metadata": {
    "tags": []
   },
   "outputs": [],
   "source": [
    "\n",
    "# Save the preprocessed dataset to a new CSV file\n",
    "#df.to_csv(\"../data/preprocessed/preprocessed_dataset.csv\", index=False)\n"
   ]
  },
  {
   "cell_type": "markdown",
   "id": "e9c6b308-afa8-40d9-ab6b-1f149f7b4d1a",
   "metadata": {},
   "source": [
    "- **Exploratory Data Analysis (EDA):**\n",
    "  - Visualized key trends in transaction data.\n",
    "  - Identified patterns that could contribute to churn."
   ]
  },
  {
   "cell_type": "code",
   "execution_count": 45,
   "id": "69f3b5e7-8a78-484c-af81-57f115f27c15",
   "metadata": {
    "tags": []
   },
   "outputs": [
    {
     "data": {
      "image/png": "[encoded data removed]",
      "text/plain": [
       "<Figure size 1200x600 with 1 Axes>"
      ]
     },
     "metadata": {},
     "output_type": "display_data"
    }
   ],
   "source": [
    "# Visualize key trends in transaction data\n",
    "## Distribution of transaction amounts\n",
    "plt.figure(figsize=(12, 6))\n",
    "sns.histplot(df['txn_amount'], bins=10, kde=True, color='skyblue')\n",
    "plt.title('Distribution of Transaction Amounts')\n",
    "plt.xlabel('Transaction Amount')\n",
    "plt.ylabel('Frequency')\n",
    "plt.show()"
   ]
  },
  {
   "cell_type": "code",
   "execution_count": 46,
   "id": "875dc2e6-8265-4f79-8327-3074da648e59",
   "metadata": {
    "tags": []
   },
   "outputs": [
    {
     "name": "stderr",
     "output_type": "stream",
     "text": [
      "C:\\Users\\admin\\AppData\\Local\\Temp\\ipykernel_16176\\4149509223.py:3: FutureWarning: \n",
      "\n",
      "Passing `palette` without assigning `hue` is deprecated and will be removed in v0.14.0. Assign the `x` variable to `hue` and set `legend=False` for the same effect.\n",
      "\n",
      "  sns.countplot(x='txn_type', data=df, palette='viridis')\n"
     ]
    },
    {
     "data": {
      "image/png": "[encoded data removed]",
      "text/plain": [
       "<Figure size 1000x600 with 1 Axes>"
      ]
     },
     "metadata": {},
     "output_type": "display_data"
    }
   ],
   "source": [
    "## Transaction types distribution\n",
    "plt.figure(figsize=(10, 6))\n",
    "sns.countplot(x='txn_type', data=df, palette='viridis')\n",
    "plt.title('Distribution of Transaction Types')\n",
    "plt.xlabel('Transaction Type')\n",
    "plt.ylabel('Count')\n",
    "plt.show();\n"
   ]
  },
  {
   "cell_type": "code",
   "execution_count": 47,
   "id": "7dd0bca7-9bba-44da-ba9f-8bb68c49fc16",
   "metadata": {
    "tags": []
   },
   "outputs": [
    {
     "data": {
      "image/png": "[encoded data removed]",
      "text/plain": [
       "<Figure size 1200x800 with 2 Axes>"
      ]
     },
     "metadata": {},
     "output_type": "display_data"
    }
   ],
   "source": [
    "## Correlation matrix to identify relationships between features\n",
    "plt.figure(figsize=(12, 8))\n",
    "sns.heatmap(df[['account_number', 'txn_amount', 'txn_date']].corr(), annot=True, cmap='coolwarm')\n",
    "plt.title('Correlation Matrix')\n",
    "plt.show()\n"
   ]
  },
  {
   "cell_type": "code",
   "execution_count": 48,
   "id": "83ccc534-2a16-4892-8757-5eea687c9e64",
   "metadata": {
    "tags": []
   },
   "outputs": [
    {
     "name": "stderr",
     "output_type": "stream",
     "text": [
      "C:\\Users\\admin\\AppData\\Local\\Temp\\ipykernel_16176\\2865994505.py:3: FutureWarning: \n",
      "\n",
      "Passing `palette` without assigning `hue` is deprecated and will be removed in v0.14.0. Assign the `x` variable to `hue` and set `legend=False` for the same effect.\n",
      "\n",
      "  sns.boxplot(x='txn_type', y='txn_amount', data=df, palette='Set2')\n"
     ]
    },
    {
     "data": {
      "image/png": "[encoded data removed]",
      "text/plain": [
       "<Figure size 1200x800 with 1 Axes>"
      ]
     },
     "metadata": {},
     "output_type": "display_data"
    }
   ],
   "source": [
    "## Boxplot of transaction amounts by transaction type\n",
    "plt.figure(figsize=(12, 8))\n",
    "sns.boxplot(x='txn_type', y='txn_amount', data=df, palette='Set2')\n",
    "plt.title('Transaction Amounts by Transaction Type')\n",
    "plt.xlabel('Transaction Type')\n",
    "plt.ylabel('Transaction Amount')\n",
    "plt.show()"
   ]
  },
  {
   "cell_type": "markdown",
   "id": "f606dfc0-9e88-439a-b482-090dd66edb56",
   "metadata": {},
   "source": [
    "### 2. Feature Engineering\n",
    "\n",
    "- **Transaction Features:**\n",
    "  - Extracted relevant features from transaction data.\n",
    "  - Engineered features like transaction frequency, average transaction amount, etc."
   ]
  },
  {
   "cell_type": "code",
   "execution_count": 49,
   "id": "d9aed740-b994-4431-910d-02e6a91cb2be",
   "metadata": {
    "tags": []
   },
   "outputs": [],
   "source": [
    "# Feature 1: Transaction Frequency\n",
    "df['transaction_frequency'] = df.groupby('account_number')['txn_date'].transform('count')\n",
    "\n",
    "# Feature 2: Average Transaction Amount\n",
    "df['average_transaction_amount'] = df.groupby('account_number')['txn_amount'].transform('mean')\n",
    "\n",
    "# Feature 3: Total Transaction Amount\n",
    "df['total_transaction_amount'] = df.groupby('account_number')['txn_amount'].transform('sum')\n"
   ]
  },
  {
   "cell_type": "code",
   "execution_count": 50,
   "id": "1d23755b-51e6-4b61-9c85-d46bf3886668",
   "metadata": {
    "tags": []
   },
   "outputs": [
    {
     "name": "stdout",
     "output_type": "stream",
     "text": [
      "Label Mapping: {'add_money': 0, 'cash_in': 1, 'cash_out': 2, 'payment': 3, 'send_money': 4}\n"
     ]
    }
   ],
   "source": [
    "\n",
    "le = LabelEncoder()\n",
    "\n",
    "# Fit and transform the 'txn_type' column\n",
    "df['txn_type_encoded'] = le.fit_transform(df['txn_type'])\n",
    "\n",
    "# Display the mapping of original values to encoded values\n",
    "label_mapping = dict(zip(le.classes_, le.transform(le.classes_)))\n",
    "print(\"Label Mapping:\", label_mapping)\n",
    "\n",
    "# Display the updated dataset with the encoded column\n",
    "# df[['txn_type', 'txn_type_encoded']].head(5)"
   ]
  },
  {
   "cell_type": "code",
   "execution_count": null,
   "id": "45bf96fa-1432-43b5-8b17-0e8a43e31cf0",
   "metadata": {},
   "outputs": [],
   "source": []
  },
  {
   "cell_type": "code",
   "execution_count": 53,
   "id": "77b11d43-33be-4189-a634-b902ff3a979b",
   "metadata": {
    "tags": []
   },
   "outputs": [
    {
     "data": {
      "text/html": [
       "<div>\n",
       "<style scoped>\n",
       "    .dataframe tbody tr th:only-of-type {\n",
       "        vertical-align: middle;\n",
       "    }\n",
       "\n",
       "    .dataframe tbody tr th {\n",
       "        vertical-align: top;\n",
       "    }\n",
       "\n",
       "    .dataframe thead th {\n",
       "        text-align: right;\n",
       "    }\n",
       "</style>\n",
       "<table border=\"1\" class=\"dataframe\">\n",
       "  <thead>\n",
       "    <tr style=\"text-align: right;\">\n",
       "      <th></th>\n",
       "      <th>account_number</th>\n",
       "      <th>txn_type</th>\n",
       "      <th>txn_amount</th>\n",
       "      <th>txn_date</th>\n",
       "      <th>transaction_frequency</th>\n",
       "      <th>average_transaction_amount</th>\n",
       "      <th>total_transaction_amount</th>\n",
       "      <th>txn_type_encoded</th>\n",
       "      <th>churn</th>\n",
       "    </tr>\n",
       "  </thead>\n",
       "  <tbody>\n",
       "    <tr>\n",
       "      <th>0</th>\n",
       "      <td>45362193617429</td>\n",
       "      <td>cash_out</td>\n",
       "      <td>200.0</td>\n",
       "      <td>2023-01-01</td>\n",
       "      <td>74</td>\n",
       "      <td>1919.324324</td>\n",
       "      <td>142030.00</td>\n",
       "      <td>2</td>\n",
       "      <td>1</td>\n",
       "    </tr>\n",
       "    <tr>\n",
       "      <th>1187</th>\n",
       "      <td>21299715344228</td>\n",
       "      <td>cash_in</td>\n",
       "      <td>410.0</td>\n",
       "      <td>2023-01-01</td>\n",
       "      <td>64</td>\n",
       "      <td>1868.123906</td>\n",
       "      <td>119559.93</td>\n",
       "      <td>1</td>\n",
       "      <td>1</td>\n",
       "    </tr>\n",
       "    <tr>\n",
       "      <th>1186</th>\n",
       "      <td>58472881890139</td>\n",
       "      <td>cash_out</td>\n",
       "      <td>1000.0</td>\n",
       "      <td>2023-01-01</td>\n",
       "      <td>22</td>\n",
       "      <td>1928.409091</td>\n",
       "      <td>42425.00</td>\n",
       "      <td>2</td>\n",
       "      <td>1</td>\n",
       "    </tr>\n",
       "    <tr>\n",
       "      <th>1185</th>\n",
       "      <td>44938538359882</td>\n",
       "      <td>cash_in</td>\n",
       "      <td>74.0</td>\n",
       "      <td>2023-01-01</td>\n",
       "      <td>63</td>\n",
       "      <td>1763.777778</td>\n",
       "      <td>111118.00</td>\n",
       "      <td>1</td>\n",
       "      <td>1</td>\n",
       "    </tr>\n",
       "    <tr>\n",
       "      <th>1184</th>\n",
       "      <td>75672305031776</td>\n",
       "      <td>cash_in</td>\n",
       "      <td>3500.0</td>\n",
       "      <td>2023-01-01</td>\n",
       "      <td>42</td>\n",
       "      <td>2329.166667</td>\n",
       "      <td>97825.00</td>\n",
       "      <td>1</td>\n",
       "      <td>1</td>\n",
       "    </tr>\n",
       "  </tbody>\n",
       "</table>\n",
       "</div>"
      ],
      "text/plain": [
       "      account_number  txn_type  txn_amount   txn_date  transaction_frequency  \\\n",
       "0     45362193617429  cash_out       200.0 2023-01-01                     74   \n",
       "1187  21299715344228   cash_in       410.0 2023-01-01                     64   \n",
       "1186  58472881890139  cash_out      1000.0 2023-01-01                     22   \n",
       "1185  44938538359882   cash_in        74.0 2023-01-01                     63   \n",
       "1184  75672305031776   cash_in      3500.0 2023-01-01                     42   \n",
       "\n",
       "      average_transaction_amount  total_transaction_amount  txn_type_encoded  \\\n",
       "0                    1919.324324                 142030.00                 2   \n",
       "1187                 1868.123906                 119559.93                 1   \n",
       "1186                 1928.409091                  42425.00                 2   \n",
       "1185                 1763.777778                 111118.00                 1   \n",
       "1184                 2329.166667                  97825.00                 1   \n",
       "\n",
       "      churn  \n",
       "0         1  \n",
       "1187      1  \n",
       "1186      1  \n",
       "1185      1  \n",
       "1184      1  "
      ]
     },
     "execution_count": 53,
     "metadata": {},
     "output_type": "execute_result"
    }
   ],
   "source": [
    "df.head()"
   ]
  },
  {
   "cell_type": "code",
   "execution_count": 52,
   "id": "07bf489f-e8c7-4cd6-9bed-692586e2677c",
   "metadata": {
    "tags": []
   },
   "outputs": [],
   "source": [
    "\n",
    "import pandas as pd\n",
    "from datetime import timedelta\n",
    "\n",
    "# Assuming df is your original DataFrame with features: txn_date, from_wallet, amount, transaction_type\n",
    "\n",
    "# Step 1: Convert 'txn_date' to datetime format if not already\n",
    "df['txn_date'] = pd.to_datetime(df['txn_date'])\n",
    "\n",
    "# Step 2: Sort the DataFrame by 'txn_date'\n",
    "df = df.sort_values(by='txn_date')\n",
    "\n",
    "# Step 3: Calculate a hypothetical churn date (e.g., last transaction date - 30 days)\n",
    "last_txn_date = df['txn_date'].max()\n",
    "churn_date = last_txn_date - timedelta(days=90)\n",
    "\n",
    "# Step 4: Create 'churn' column based on the calculated churn date\n",
    "df['churn'] = (df['txn_date'] <= churn_date).astype(int)\n",
    "\n",
    "# Now, 'churn' is a binary column where 1 indicates churn and 0 indicates no churn.\n"
   ]
  },
  {
   "cell_type": "markdown",
   "id": "5838c86e-c84f-4710-a7f3-c7266af312b0",
   "metadata": {},
   "source": [
    "### 3. Model Selection and Training\n",
    "\n",
    "- **Algorithm Choice:**\n",
    "  - Selected machine learning models suitable for churn prediction (e.g., Random Forest, XGBoost)."
   ]
  },
  {
   "cell_type": "code",
   "execution_count": 54,
   "id": "4feba410-c304-41a6-b7f3-a6c9349b4114",
   "metadata": {
    "tags": []
   },
   "outputs": [],
   "source": [
    "import pandas as pd\n",
    "from sklearn.model_selection import train_test_split\n",
    "from sklearn.ensemble import RandomForestClassifier\n",
    "from xgboost import XGBClassifier\n",
    "from sklearn.metrics import accuracy_score, classification_report, confusion_matrix\n",
    "\n"
   ]
  },
  {
   "cell_type": "code",
   "execution_count": 55,
   "id": "4862d5b5-858b-48e9-82fb-6ffcc109e162",
   "metadata": {
    "tags": []
   },
   "outputs": [],
   "source": [
    "# Drop unnecessary columns for model training\n",
    "features = df.drop(['account_number', 'txn_type', 'txn_date', 'churn'], axis=1)\n",
    "\n",
    "# Set the target variable\n",
    "target = df['churn']\n"
   ]
  },
  {
   "cell_type": "code",
   "execution_count": 56,
   "id": "99bca0b2-a430-4acb-ab6f-cad9563c6fb7",
   "metadata": {
    "tags": []
   },
   "outputs": [],
   "source": [
    "# Split the data into training and testing sets\n",
    "X_train, X_test, y_train, y_test = train_test_split(features, target, test_size=0.2, random_state=42)\n"
   ]
  },
  {
   "cell_type": "code",
   "execution_count": 57,
   "id": "d559e302-8e38-498b-85d8-a37937144e11",
   "metadata": {
    "tags": []
   },
   "outputs": [
    {
     "data": {
      "text/html": [
       "<style>#sk-container-id-2 {color: black;}#sk-container-id-2 pre{padding: 0;}#sk-container-id-2 div.sk-toggleable {background-color: white;}#sk-container-id-2 label.sk-toggleable__label {cursor: pointer;display: block;width: 100%;margin-bottom: 0;padding: 0.3em;box-sizing: border-box;text-align: center;}#sk-container-id-2 label.sk-toggleable__label-arrow:before {content: \"▸\";float: left;margin-right: 0.25em;color: #696969;}#sk-container-id-2 label.sk-toggleable__label-arrow:hover:before {color: black;}#sk-container-id-2 div.sk-estimator:hover label.sk-toggleable__label-arrow:before {color: black;}#sk-container-id-2 div.sk-toggleable__content {max-height: 0;max-width: 0;overflow: hidden;text-align: left;background-color: #f0f8ff;}#sk-container-id-2 div.sk-toggleable__content pre {margin: 0.2em;color: black;border-radius: 0.25em;background-color: #f0f8ff;}#sk-container-id-2 input.sk-toggleable__control:checked~div.sk-toggleable__content {max-height: 200px;max-width: 100%;overflow: auto;}#sk-container-id-2 input.sk-toggleable__control:checked~label.sk-toggleable__label-arrow:before {content: \"▾\";}#sk-container-id-2 div.sk-estimator input.sk-toggleable__control:checked~label.sk-toggleable__label {background-color: #d4ebff;}#sk-container-id-2 div.sk-label input.sk-toggleable__control:checked~label.sk-toggleable__label {background-color: #d4ebff;}#sk-container-id-2 input.sk-hidden--visually {border: 0;clip: rect(1px 1px 1px 1px);clip: rect(1px, 1px, 1px, 1px);height: 1px;margin: -1px;overflow: hidden;padding: 0;position: absolute;width: 1px;}#sk-container-id-2 div.sk-estimator {font-family: monospace;background-color: #f0f8ff;border: 1px dotted black;border-radius: 0.25em;box-sizing: border-box;margin-bottom: 0.5em;}#sk-container-id-2 div.sk-estimator:hover {background-color: #d4ebff;}#sk-container-id-2 div.sk-parallel-item::after {content: \"\";width: 100%;border-bottom: 1px solid gray;flex-grow: 1;}#sk-container-id-2 div.sk-label:hover label.sk-toggleable__label {background-color: #d4ebff;}#sk-container-id-2 div.sk-serial::before {content: \"\";position: absolute;border-left: 1px solid gray;box-sizing: border-box;top: 0;bottom: 0;left: 50%;z-index: 0;}#sk-container-id-2 div.sk-serial {display: flex;flex-direction: column;align-items: center;background-color: white;padding-right: 0.2em;padding-left: 0.2em;position: relative;}#sk-container-id-2 div.sk-item {position: relative;z-index: 1;}#sk-container-id-2 div.sk-parallel {display: flex;align-items: stretch;justify-content: center;background-color: white;position: relative;}#sk-container-id-2 div.sk-item::before, #sk-container-id-2 div.sk-parallel-item::before {content: \"\";position: absolute;border-left: 1px solid gray;box-sizing: border-box;top: 0;bottom: 0;left: 50%;z-index: -1;}#sk-container-id-2 div.sk-parallel-item {display: flex;flex-direction: column;z-index: 1;position: relative;background-color: white;}#sk-container-id-2 div.sk-parallel-item:first-child::after {align-self: flex-end;width: 50%;}#sk-container-id-2 div.sk-parallel-item:last-child::after {align-self: flex-start;width: 50%;}#sk-container-id-2 div.sk-parallel-item:only-child::after {width: 0;}#sk-container-id-2 div.sk-dashed-wrapped {border: 1px dashed gray;margin: 0 0.4em 0.5em 0.4em;box-sizing: border-box;padding-bottom: 0.4em;background-color: white;}#sk-container-id-2 div.sk-label label {font-family: monospace;font-weight: bold;display: inline-block;line-height: 1.2em;}#sk-container-id-2 div.sk-label-container {text-align: center;}#sk-container-id-2 div.sk-container {/* jupyter's `normalize.less` sets `[hidden] { display: none; }` but bootstrap.min.css set `[hidden] { display: none !important; }` so we also need the `!important` here to be able to override the default hidden behavior on the sphinx rendered scikit-learn.org. See: https://github.com/scikit-learn/scikit-learn/issues/21755 */display: inline-block !important;position: relative;}#sk-container-id-2 div.sk-text-repr-fallback {display: none;}</style><div id=\"sk-container-id-2\" class=\"sk-top-container\"><div class=\"sk-text-repr-fallback\"><pre>RandomForestClassifier(random_state=42)</pre><b>In a Jupyter environment, please rerun this cell to show the HTML representation or trust the notebook. <br />On GitHub, the HTML representation is unable to render, please try loading this page with nbviewer.org.</b></div><div class=\"sk-container\" hidden><div class=\"sk-item\"><div class=\"sk-estimator sk-toggleable\"><input class=\"sk-toggleable__control sk-hidden--visually\" id=\"sk-estimator-id-2\" type=\"checkbox\" checked><label for=\"sk-estimator-id-2\" class=\"sk-toggleable__label sk-toggleable__label-arrow\">RandomForestClassifier</label><div class=\"sk-toggleable__content\"><pre>RandomForestClassifier(random_state=42)</pre></div></div></div></div></div>"
      ],
      "text/plain": [
       "RandomForestClassifier(random_state=42)"
      ]
     },
     "execution_count": 57,
     "metadata": {},
     "output_type": "execute_result"
    }
   ],
   "source": [
    "# Initialize the Random Forest classifier\n",
    "rf_model = RandomForestClassifier(random_state=42)\n",
    "\n",
    "# Train the model\n",
    "rf_model.fit(X_train, y_train)"
   ]
  },
  {
   "cell_type": "markdown",
   "id": "f88e59c5-848e-4a22-83de-b5ad384942f0",
   "metadata": {},
   "source": [
    "### 4. Churn Prediction\n",
    "\n",
    "- **Model Evaluation:**\n",
    "  - Assessed model performance using metrics like accuracy, precision, recall, and F1 score.\n"
   ]
  },
  {
   "cell_type": "code",
   "execution_count": 58,
   "id": "2609cb41-823d-45bc-b605-886bf070f52a",
   "metadata": {
    "tags": []
   },
   "outputs": [],
   "source": [
    "# Make predictions on the test set\n",
    "y_pred = rf_model.predict(X_test)"
   ]
  },
  {
   "cell_type": "code",
   "execution_count": 59,
   "id": "6e6894a4-292b-400f-a36d-067ce222d3ee",
   "metadata": {
    "tags": []
   },
   "outputs": [
    {
     "name": "stdout",
     "output_type": "stream",
     "text": [
      "Model Accuracy: 0.6484165496105223\n",
      "\n",
      "Confusion Matrix:\n",
      "[[ 9982 27855]\n",
      " [16197 71262]]\n",
      "\n",
      "Classification Report:\n",
      "              precision    recall  f1-score   support\n",
      "\n",
      "           0       0.38      0.26      0.31     37837\n",
      "           1       0.72      0.81      0.76     87459\n",
      "\n",
      "    accuracy                           0.65    125296\n",
      "   macro avg       0.55      0.54      0.54    125296\n",
      "weighted avg       0.62      0.65      0.63    125296\n",
      "\n"
     ]
    }
   ],
   "source": [
    "# Evaluate the model performance\n",
    "accuracy = accuracy_score(y_test, y_pred)\n",
    "conf_matrix = confusion_matrix(y_test, y_pred)\n",
    "class_report = classification_report(y_test, y_pred)\n",
    "\n",
    "# Display the results\n",
    "print(f\"Model Accuracy: {accuracy}\")\n",
    "print(\"\\nConfusion Matrix:\")\n",
    "print(conf_matrix)\n",
    "print(\"\\nClassification Report:\")\n",
    "print(class_report)"
   ]
  },
  {
   "cell_type": "code",
   "execution_count": 60,
   "id": "8395e595-3844-43ed-bf27-fdd797e6195c",
   "metadata": {},
   "outputs": [
    {
     "data": {
      "text/html": [
       "<style>#sk-container-id-3 {color: black;}#sk-container-id-3 pre{padding: 0;}#sk-container-id-3 div.sk-toggleable {background-color: white;}#sk-container-id-3 label.sk-toggleable__label {cursor: pointer;display: block;width: 100%;margin-bottom: 0;padding: 0.3em;box-sizing: border-box;text-align: center;}#sk-container-id-3 label.sk-toggleable__label-arrow:before {content: \"▸\";float: left;margin-right: 0.25em;color: #696969;}#sk-container-id-3 label.sk-toggleable__label-arrow:hover:before {color: black;}#sk-container-id-3 div.sk-estimator:hover label.sk-toggleable__label-arrow:before {color: black;}#sk-container-id-3 div.sk-toggleable__content {max-height: 0;max-width: 0;overflow: hidden;text-align: left;background-color: #f0f8ff;}#sk-container-id-3 div.sk-toggleable__content pre {margin: 0.2em;color: black;border-radius: 0.25em;background-color: #f0f8ff;}#sk-container-id-3 input.sk-toggleable__control:checked~div.sk-toggleable__content {max-height: 200px;max-width: 100%;overflow: auto;}#sk-container-id-3 input.sk-toggleable__control:checked~label.sk-toggleable__label-arrow:before {content: \"▾\";}#sk-container-id-3 div.sk-estimator input.sk-toggleable__control:checked~label.sk-toggleable__label {background-color: #d4ebff;}#sk-container-id-3 div.sk-label input.sk-toggleable__control:checked~label.sk-toggleable__label {background-color: #d4ebff;}#sk-container-id-3 input.sk-hidden--visually {border: 0;clip: rect(1px 1px 1px 1px);clip: rect(1px, 1px, 1px, 1px);height: 1px;margin: -1px;overflow: hidden;padding: 0;position: absolute;width: 1px;}#sk-container-id-3 div.sk-estimator {font-family: monospace;background-color: #f0f8ff;border: 1px dotted black;border-radius: 0.25em;box-sizing: border-box;margin-bottom: 0.5em;}#sk-container-id-3 div.sk-estimator:hover {background-color: #d4ebff;}#sk-container-id-3 div.sk-parallel-item::after {content: \"\";width: 100%;border-bottom: 1px solid gray;flex-grow: 1;}#sk-container-id-3 div.sk-label:hover label.sk-toggleable__label {background-color: #d4ebff;}#sk-container-id-3 div.sk-serial::before {content: \"\";position: absolute;border-left: 1px solid gray;box-sizing: border-box;top: 0;bottom: 0;left: 50%;z-index: 0;}#sk-container-id-3 div.sk-serial {display: flex;flex-direction: column;align-items: center;background-color: white;padding-right: 0.2em;padding-left: 0.2em;position: relative;}#sk-container-id-3 div.sk-item {position: relative;z-index: 1;}#sk-container-id-3 div.sk-parallel {display: flex;align-items: stretch;justify-content: center;background-color: white;position: relative;}#sk-container-id-3 div.sk-item::before, #sk-container-id-3 div.sk-parallel-item::before {content: \"\";position: absolute;border-left: 1px solid gray;box-sizing: border-box;top: 0;bottom: 0;left: 50%;z-index: -1;}#sk-container-id-3 div.sk-parallel-item {display: flex;flex-direction: column;z-index: 1;position: relative;background-color: white;}#sk-container-id-3 div.sk-parallel-item:first-child::after {align-self: flex-end;width: 50%;}#sk-container-id-3 div.sk-parallel-item:last-child::after {align-self: flex-start;width: 50%;}#sk-container-id-3 div.sk-parallel-item:only-child::after {width: 0;}#sk-container-id-3 div.sk-dashed-wrapped {border: 1px dashed gray;margin: 0 0.4em 0.5em 0.4em;box-sizing: border-box;padding-bottom: 0.4em;background-color: white;}#sk-container-id-3 div.sk-label label {font-family: monospace;font-weight: bold;display: inline-block;line-height: 1.2em;}#sk-container-id-3 div.sk-label-container {text-align: center;}#sk-container-id-3 div.sk-container {/* jupyter's `normalize.less` sets `[hidden] { display: none; }` but bootstrap.min.css set `[hidden] { display: none !important; }` so we also need the `!important` here to be able to override the default hidden behavior on the sphinx rendered scikit-learn.org. See: https://github.com/scikit-learn/scikit-learn/issues/21755 */display: inline-block !important;position: relative;}#sk-container-id-3 div.sk-text-repr-fallback {display: none;}</style><div id=\"sk-container-id-3\" class=\"sk-top-container\"><div class=\"sk-text-repr-fallback\"><pre>RandomForestClassifier(random_state=42)</pre><b>In a Jupyter environment, please rerun this cell to show the HTML representation or trust the notebook. <br />On GitHub, the HTML representation is unable to render, please try loading this page with nbviewer.org.</b></div><div class=\"sk-container\" hidden><div class=\"sk-item\"><div class=\"sk-estimator sk-toggleable\"><input class=\"sk-toggleable__control sk-hidden--visually\" id=\"sk-estimator-id-3\" type=\"checkbox\" checked><label for=\"sk-estimator-id-3\" class=\"sk-toggleable__label sk-toggleable__label-arrow\">RandomForestClassifier</label><div class=\"sk-toggleable__content\"><pre>RandomForestClassifier(random_state=42)</pre></div></div></div></div></div>"
      ],
      "text/plain": [
       "RandomForestClassifier(random_state=42)"
      ]
     },
     "execution_count": 60,
     "metadata": {},
     "output_type": "execute_result"
    }
   ],
   "source": [
    "rf_model"
   ]
  },
  {
   "cell_type": "markdown",
   "id": "1b05a5ee-7f5b-452d-9d69-0236cfd69fac",
   "metadata": {},
   "source": [
    "### Saving this model"
   ]
  },
  {
   "cell_type": "code",
   "execution_count": 61,
   "id": "f70ea937-f64e-4dd3-a215-43bbabdad00c",
   "metadata": {},
   "outputs": [
    {
     "data": {
      "text/plain": [
       "['../models/rf_model.pkl']"
      ]
     },
     "execution_count": 61,
     "metadata": {},
     "output_type": "execute_result"
    }
   ],
   "source": [
    "import joblib\n",
    "\n",
    "\n",
    "# Save the model to a file\n",
    "joblib.dump(rf_model, '../models/rf_model.pkl')\n"
   ]
  },
  {
   "cell_type": "markdown",
   "id": "8fb96e39-ae9a-4af9-b758-5bd2eed3fccd",
   "metadata": {},
   "source": [
    "### Loading this model"
   ]
  },
  {
   "cell_type": "code",
   "execution_count": 63,
   "id": "f5fdbe0d-7165-4ee1-8635-317545d499a8",
   "metadata": {},
   "outputs": [],
   "source": [
    "# Load the saved model\n",
    "loaded_model = joblib.load('../models/rf_model.pkl')\n",
    "\n"
   ]
  },
  {
   "cell_type": "code",
   "execution_count": 64,
   "id": "a9345901-966b-45de-8ff3-7a05ca818b3d",
   "metadata": {},
   "outputs": [
    {
     "data": {
      "text/html": [
       "<style>#sk-container-id-4 {color: black;}#sk-container-id-4 pre{padding: 0;}#sk-container-id-4 div.sk-toggleable {background-color: white;}#sk-container-id-4 label.sk-toggleable__label {cursor: pointer;display: block;width: 100%;margin-bottom: 0;padding: 0.3em;box-sizing: border-box;text-align: center;}#sk-container-id-4 label.sk-toggleable__label-arrow:before {content: \"▸\";float: left;margin-right: 0.25em;color: #696969;}#sk-container-id-4 label.sk-toggleable__label-arrow:hover:before {color: black;}#sk-container-id-4 div.sk-estimator:hover label.sk-toggleable__label-arrow:before {color: black;}#sk-container-id-4 div.sk-toggleable__content {max-height: 0;max-width: 0;overflow: hidden;text-align: left;background-color: #f0f8ff;}#sk-container-id-4 div.sk-toggleable__content pre {margin: 0.2em;color: black;border-radius: 0.25em;background-color: #f0f8ff;}#sk-container-id-4 input.sk-toggleable__control:checked~div.sk-toggleable__content {max-height: 200px;max-width: 100%;overflow: auto;}#sk-container-id-4 input.sk-toggleable__control:checked~label.sk-toggleable__label-arrow:before {content: \"▾\";}#sk-container-id-4 div.sk-estimator input.sk-toggleable__control:checked~label.sk-toggleable__label {background-color: #d4ebff;}#sk-container-id-4 div.sk-label input.sk-toggleable__control:checked~label.sk-toggleable__label {background-color: #d4ebff;}#sk-container-id-4 input.sk-hidden--visually {border: 0;clip: rect(1px 1px 1px 1px);clip: rect(1px, 1px, 1px, 1px);height: 1px;margin: -1px;overflow: hidden;padding: 0;position: absolute;width: 1px;}#sk-container-id-4 div.sk-estimator {font-family: monospace;background-color: #f0f8ff;border: 1px dotted black;border-radius: 0.25em;box-sizing: border-box;margin-bottom: 0.5em;}#sk-container-id-4 div.sk-estimator:hover {background-color: #d4ebff;}#sk-container-id-4 div.sk-parallel-item::after {content: \"\";width: 100%;border-bottom: 1px solid gray;flex-grow: 1;}#sk-container-id-4 div.sk-label:hover label.sk-toggleable__label {background-color: #d4ebff;}#sk-container-id-4 div.sk-serial::before {content: \"\";position: absolute;border-left: 1px solid gray;box-sizing: border-box;top: 0;bottom: 0;left: 50%;z-index: 0;}#sk-container-id-4 div.sk-serial {display: flex;flex-direction: column;align-items: center;background-color: white;padding-right: 0.2em;padding-left: 0.2em;position: relative;}#sk-container-id-4 div.sk-item {position: relative;z-index: 1;}#sk-container-id-4 div.sk-parallel {display: flex;align-items: stretch;justify-content: center;background-color: white;position: relative;}#sk-container-id-4 div.sk-item::before, #sk-container-id-4 div.sk-parallel-item::before {content: \"\";position: absolute;border-left: 1px solid gray;box-sizing: border-box;top: 0;bottom: 0;left: 50%;z-index: -1;}#sk-container-id-4 div.sk-parallel-item {display: flex;flex-direction: column;z-index: 1;position: relative;background-color: white;}#sk-container-id-4 div.sk-parallel-item:first-child::after {align-self: flex-end;width: 50%;}#sk-container-id-4 div.sk-parallel-item:last-child::after {align-self: flex-start;width: 50%;}#sk-container-id-4 div.sk-parallel-item:only-child::after {width: 0;}#sk-container-id-4 div.sk-dashed-wrapped {border: 1px dashed gray;margin: 0 0.4em 0.5em 0.4em;box-sizing: border-box;padding-bottom: 0.4em;background-color: white;}#sk-container-id-4 div.sk-label label {font-family: monospace;font-weight: bold;display: inline-block;line-height: 1.2em;}#sk-container-id-4 div.sk-label-container {text-align: center;}#sk-container-id-4 div.sk-container {/* jupyter's `normalize.less` sets `[hidden] { display: none; }` but bootstrap.min.css set `[hidden] { display: none !important; }` so we also need the `!important` here to be able to override the default hidden behavior on the sphinx rendered scikit-learn.org. See: https://github.com/scikit-learn/scikit-learn/issues/21755 */display: inline-block !important;position: relative;}#sk-container-id-4 div.sk-text-repr-fallback {display: none;}</style><div id=\"sk-container-id-4\" class=\"sk-top-container\"><div class=\"sk-text-repr-fallback\"><pre>RandomForestClassifier(random_state=42)</pre><b>In a Jupyter environment, please rerun this cell to show the HTML representation or trust the notebook. <br />On GitHub, the HTML representation is unable to render, please try loading this page with nbviewer.org.</b></div><div class=\"sk-container\" hidden><div class=\"sk-item\"><div class=\"sk-estimator sk-toggleable\"><input class=\"sk-toggleable__control sk-hidden--visually\" id=\"sk-estimator-id-4\" type=\"checkbox\" checked><label for=\"sk-estimator-id-4\" class=\"sk-toggleable__label sk-toggleable__label-arrow\">RandomForestClassifier</label><div class=\"sk-toggleable__content\"><pre>RandomForestClassifier(random_state=42)</pre></div></div></div></div></div>"
      ],
      "text/plain": [
       "RandomForestClassifier(random_state=42)"
      ]
     },
     "execution_count": 64,
     "metadata": {},
     "output_type": "execute_result"
    }
   ],
   "source": [
    "loaded_model"
   ]
  },
  {
   "cell_type": "markdown",
   "id": "74e09146-28a3-4f80-ad69-e42868424406",
   "metadata": {},
   "source": [
    " **Churn Identification:**\n",
    "  - Applied the trained model to identify potential churners.\n"
   ]
  },
  {
   "cell_type": "code",
   "execution_count": 67,
   "id": "bda114e9-eee8-4af9-b0fe-d1845c47d1ff",
   "metadata": {},
   "outputs": [],
   "source": [
    "import pandas as pd\n",
    "import numpy as np\n",
    "\n",
    "# Set a seed for reproducibility\n",
    "np.random.seed(42)\n",
    "\n",
    "# Number of new data points\n",
    "num_samples = 10\n",
    "\n",
    "# Generate random data\n",
    "new_data = pd.DataFrame({\n",
    "    'txn_amount': np.random.uniform(50, 10000, num_samples),\n",
    "    'transaction_frequency': np.random.randint(20, 100, num_samples),\n",
    "    'average_transaction_amount': np.random.uniform(1000, 3000, num_samples),\n",
    "    'total_transaction_amount': np.random.uniform(50000, 250000, num_samples),\n",
    "    'txn_type_encoded': np.random.randint(1, 5, num_samples)\n",
    "})\n",
    "\n",
    "# Display the generated data\n",
    "# print(new_data)\n"
   ]
  },
  {
   "cell_type": "code",
   "execution_count": 71,
   "id": "f60a7dc0-f5f8-4dad-9912-d4a072fd7c35",
   "metadata": {
    "tags": []
   },
   "outputs": [
    {
     "data": {
      "text/html": [
       "<div>\n",
       "<style scoped>\n",
       "    .dataframe tbody tr th:only-of-type {\n",
       "        vertical-align: middle;\n",
       "    }\n",
       "\n",
       "    .dataframe tbody tr th {\n",
       "        vertical-align: top;\n",
       "    }\n",
       "\n",
       "    .dataframe thead th {\n",
       "        text-align: right;\n",
       "    }\n",
       "</style>\n",
       "<table border=\"1\" class=\"dataframe\">\n",
       "  <thead>\n",
       "    <tr style=\"text-align: right;\">\n",
       "      <th></th>\n",
       "      <th>txn_amount</th>\n",
       "      <th>transaction_frequency</th>\n",
       "      <th>average_transaction_amount</th>\n",
       "      <th>total_transaction_amount</th>\n",
       "      <th>txn_type_encoded</th>\n",
       "    </tr>\n",
       "  </thead>\n",
       "  <tbody>\n",
       "    <tr>\n",
       "      <th>0</th>\n",
       "      <td>3776.674183</td>\n",
       "      <td>41</td>\n",
       "      <td>1608.484486</td>\n",
       "      <td>89934.756432</td>\n",
       "      <td>1</td>\n",
       "    </tr>\n",
       "    <tr>\n",
       "      <th>1</th>\n",
       "      <td>9509.607349</td>\n",
       "      <td>72</td>\n",
       "      <td>2049.512863</td>\n",
       "      <td>152846.887683</td>\n",
       "      <td>2</td>\n",
       "    </tr>\n",
       "    <tr>\n",
       "      <th>2</th>\n",
       "      <td>7333.339721</td>\n",
       "      <td>21</td>\n",
       "      <td>1863.890037</td>\n",
       "      <td>168482.913772</td>\n",
       "      <td>1</td>\n",
       "    </tr>\n",
       "    <tr>\n",
       "      <th>3</th>\n",
       "      <td>6006.651918</td>\n",
       "      <td>49</td>\n",
       "      <td>1582.458280</td>\n",
       "      <td>59290.082544</td>\n",
       "      <td>2</td>\n",
       "    </tr>\n",
       "    <tr>\n",
       "      <th>4</th>\n",
       "      <td>1602.385472</td>\n",
       "      <td>57</td>\n",
       "      <td>2223.705789</td>\n",
       "      <td>171508.970380</td>\n",
       "      <td>4</td>\n",
       "    </tr>\n",
       "    <tr>\n",
       "      <th>5</th>\n",
       "      <td>1602.145477</td>\n",
       "      <td>21</td>\n",
       "      <td>1278.987721</td>\n",
       "      <td>84104.824737</td>\n",
       "      <td>4</td>\n",
       "    </tr>\n",
       "    <tr>\n",
       "      <th>6</th>\n",
       "      <td>627.931941</td>\n",
       "      <td>83</td>\n",
       "      <td>1584.289297</td>\n",
       "      <td>63010.318597</td>\n",
       "      <td>3</td>\n",
       "    </tr>\n",
       "    <tr>\n",
       "      <th>7</th>\n",
       "      <td>8668.452650</td>\n",
       "      <td>79</td>\n",
       "      <td>1732.723687</td>\n",
       "      <td>239777.107451</td>\n",
       "      <td>4</td>\n",
       "    </tr>\n",
       "    <tr>\n",
       "      <th>8</th>\n",
       "      <td>6031.094367</td>\n",
       "      <td>40</td>\n",
       "      <td>1912.139968</td>\n",
       "      <td>243126.406615</td>\n",
       "      <td>3</td>\n",
       "    </tr>\n",
       "    <tr>\n",
       "      <th>9</th>\n",
       "      <td>7095.322149</td>\n",
       "      <td>52</td>\n",
       "      <td>2570.351923</td>\n",
       "      <td>211679.469623</td>\n",
       "      <td>4</td>\n",
       "    </tr>\n",
       "  </tbody>\n",
       "</table>\n",
       "</div>"
      ],
      "text/plain": [
       "    txn_amount  transaction_frequency  average_transaction_amount  \\\n",
       "0  3776.674183                     41                 1608.484486   \n",
       "1  9509.607349                     72                 2049.512863   \n",
       "2  7333.339721                     21                 1863.890037   \n",
       "3  6006.651918                     49                 1582.458280   \n",
       "4  1602.385472                     57                 2223.705789   \n",
       "5  1602.145477                     21                 1278.987721   \n",
       "6   627.931941                     83                 1584.289297   \n",
       "7  8668.452650                     79                 1732.723687   \n",
       "8  6031.094367                     40                 1912.139968   \n",
       "9  7095.322149                     52                 2570.351923   \n",
       "\n",
       "   total_transaction_amount  txn_type_encoded  \n",
       "0              89934.756432                 1  \n",
       "1             152846.887683                 2  \n",
       "2             168482.913772                 1  \n",
       "3              59290.082544                 2  \n",
       "4             171508.970380                 4  \n",
       "5              84104.824737                 4  \n",
       "6              63010.318597                 3  \n",
       "7             239777.107451                 4  \n",
       "8             243126.406615                 3  \n",
       "9             211679.469623                 4  "
      ]
     },
     "execution_count": 71,
     "metadata": {},
     "output_type": "execute_result"
    }
   ],
   "source": [
    "new_data"
   ]
  },
  {
   "cell_type": "code",
   "execution_count": 69,
   "id": "d3efb8c8-36ec-49d2-8d69-4d72e620363f",
   "metadata": {
    "tags": []
   },
   "outputs": [],
   "source": [
    "# Assuming new_data is your new dataset\n",
    "predictions = loaded_model.predict(new_data)"
   ]
  },
  {
   "cell_type": "code",
   "execution_count": 70,
   "id": "dab8022c-78b0-4389-b74a-38d0f9deb2b1",
   "metadata": {
    "tags": []
   },
   "outputs": [
    {
     "data": {
      "text/plain": [
       "array([1, 1, 1, 1, 1, 1, 0, 1, 0, 1])"
      ]
     },
     "execution_count": 70,
     "metadata": {},
     "output_type": "execute_result"
    }
   ],
   "source": [
    "predictions"
   ]
  },
  {
   "cell_type": "markdown",
   "id": "08cd4a5e-32e1-4e8a-be06-acb3627a29a2",
   "metadata": {},
   "source": [
    "### 5. Insights and Recommendations\n",
    "\n",
    "- **Interpretable Results:**\n",
    "  - Provided insights into factors contributing to churn."
   ]
  },
  {
   "cell_type": "code",
   "execution_count": 73,
   "id": "2fd634d8-688c-46d1-9771-9d55fc1fcbe5",
   "metadata": {
    "tags": []
   },
   "outputs": [
    {
     "name": "stdout",
     "output_type": "stream",
     "text": [
      "Top Contributing Factors to Churn:\n",
      "average_transaction_amount: 0.3029136104278915\n",
      "total_transaction_amount: 0.3001021591906794\n",
      "txn_amount: 0.22822053115625224\n",
      "transaction_frequency: 0.13496948028568692\n",
      "txn_type_encoded: 0.03379421893949\n"
     ]
    }
   ],
   "source": [
    "# Assuming you have already trained a machine learning model called 'churn_model'\n",
    "# and 'X_test' contains the feature data for testing\n",
    "\n",
    "# Make predictions on the test set\n",
    "predictions = loaded_model.predict(X_test)\n",
    "\n",
    "# Assuming 'X_test' has features like 'transaction_frequency', 'average_transaction_amount', etc.\n",
    "# You can use model interpretation techniques like feature importance\n",
    "\n",
    "# Get feature importances from the model\n",
    "feature_importances = loaded_model.feature_importances_\n",
    "\n",
    "# Create a dictionary with feature names and their importance scores\n",
    "feature_importance_dict = dict(zip(X_test.columns, feature_importances))\n",
    "\n",
    "# Sort the features by importance in descending order\n",
    "sorted_features = sorted(feature_importance_dict.items(), key=lambda x: x[1], reverse=True)\n",
    "\n",
    "# Print or visualize the top contributing factors\n",
    "print(\"Top Contributing Factors to Churn:\")\n",
    "for feature, importance in sorted_features[:5]:  # Displaying the top 5 features\n",
    "    print(f\"{feature}: {importance}\")\n",
    "\n",
    "# Depending on your model, you may also use SHAP (SHapley Additive exPlanations) values for better interpretability\n",
    "# Example:\n",
    "# import shap\n",
    "# explainer = shap.TreeExplainer(churn_model)\n",
    "# shap_values = explainer.shap_values(X_test)\n",
    "# shap.summary_plot(shap_values, X_test, feature_names=X_test.columns)\n"
   ]
  },
  {
   "cell_type": "markdown",
   "id": "1b25eec0-f35e-47fe-a530-70e7e3a59d79",
   "metadata": {},
   "source": [
    "average_transaction_amount: Customers with a specific average transaction amount are more likely to contribute to churn (30.29% importance).\n",
    "\n",
    "total_transaction_amount: The total transaction amount also significantly influences churn predictions (30.01% importance).\n",
    "\n",
    "txn_amount: The specific transaction amount for individual transactions is a notable factor affecting churn (22.82% importance).\n",
    "\n",
    "transaction_frequency: The frequency of transactions plays a role in predicting churn (13.50% importance).\n",
    "\n",
    "txn_type_encoded: Encoded transaction types, while less influential, still contribute to the model's predictions (3.38% importance)."
   ]
  },
  {
   "cell_type": "markdown",
   "id": "37654a92-6485-4d36-a9be-aa3ae38aecca",
   "metadata": {},
   "source": [
    "- **Recommendations:**\n",
    "  - Suggested actionable strategies to reduce churn based on data findings.\n"
   ]
  },
  {
   "cell_type": "code",
   "execution_count": 83,
   "id": "f0be4e28-26a3-481e-a340-78e4d7197da9",
   "metadata": {
    "tags": []
   },
   "outputs": [],
   "source": [
    "all_for_test = df[['txn_amount',\n",
    "       'transaction_frequency', 'average_transaction_amount',\n",
    "       'total_transaction_amount', 'txn_type_encoded']]"
   ]
  },
  {
   "cell_type": "code",
   "execution_count": 85,
   "id": "ac54f513-a2b2-4f7b-979c-74ab458cb004",
   "metadata": {
    "tags": []
   },
   "outputs": [
    {
     "name": "stdout",
     "output_type": "stream",
     "text": [
      "Top Features Contributing to Churn:\n",
      "average_transaction_amount: 0.3029136104278915\n",
      "total_transaction_amount: 0.3001021591906794\n",
      "txn_amount: 0.22822053115625224\n",
      "transaction_frequency: 0.13496948028568692\n",
      "txn_type_encoded: 0.03379421893949\n",
      "\n",
      "Actionable Recommendations to Reduce Churn:\n",
      "- Increase engagement with personalized offers on high transaction amounts.\n",
      "- Increase engagement with personalized offers on high transaction amounts.\n"
     ]
    }
   ],
   "source": [
    "# Assuming you have a trained machine learning model named 'loaded_model'\n",
    "# and a DataFrame 'df' containing relevant features\n",
    "\n",
    "# Make predictions on the entire dataset\n",
    "predictions = loaded_model.predict(all_for_test)\n",
    "\n",
    "# Assign churn predictions to the DataFrame\n",
    "df['Churn_Prediction'] = predictions\n",
    "\n",
    "# Identify key factors contributing to churn\n",
    "feature_importances = loaded_model.feature_importances_\n",
    "\n",
    "# Assuming 'features' is a list of feature names\n",
    "feature_importance_dict = dict(zip(features, feature_importances))\n",
    "\n",
    "# Sort features by importance in descending order\n",
    "sorted_features = sorted(feature_importance_dict.items(), key=lambda x: x[1], reverse=True)\n",
    "\n",
    "# Extract the top features contributing to churn\n",
    "top_features = [feature[0] for feature in sorted_features[:3]]  # You can adjust the number as needed\n",
    "\n",
    "# Display top features and their importance scores\n",
    "print(\"Top Features Contributing to Churn:\")\n",
    "for feature in sorted_features:\n",
    "    print(f\"{feature[0]}: {feature[1]}\")\n",
    "\n",
    "# Generate recommendations based on top features\n",
    "def generate_recommendations(top_features):\n",
    "    recommendations = []\n",
    "    for feature in top_features:\n",
    "        if \"transaction_amount\" in feature.lower():\n",
    "            recommendations.append(f\"Increase engagement with personalized offers on high transaction amounts.\")\n",
    "        elif \"tenure\" in feature.lower():\n",
    "            recommendations.append(f\"Implement targeted loyalty programs for customers with longer tenure.\")\n",
    "        # Add more conditions based on specific features\n",
    "\n",
    "    return recommendations\n",
    "\n",
    "# Get actionable recommendations\n",
    "actionable_recommendations = generate_recommendations(top_features)\n",
    "\n",
    "# Display recommendations\n",
    "print(\"\\nActionable Recommendations to Reduce Churn:\")\n",
    "for recommendation in actionable_recommendations:\n",
    "    print(f\"- {recommendation}\")\n"
   ]
  },
  {
   "cell_type": "code",
   "execution_count": 91,
   "id": "7e0f683a-5550-4020-8a05-4f45544e2ec8",
   "metadata": {
    "tags": []
   },
   "outputs": [
    {
     "data": {
      "text/html": [
       "<div>\n",
       "<style scoped>\n",
       "    .dataframe tbody tr th:only-of-type {\n",
       "        vertical-align: middle;\n",
       "    }\n",
       "\n",
       "    .dataframe tbody tr th {\n",
       "        vertical-align: top;\n",
       "    }\n",
       "\n",
       "    .dataframe thead th {\n",
       "        text-align: right;\n",
       "    }\n",
       "</style>\n",
       "<table border=\"1\" class=\"dataframe\">\n",
       "  <thead>\n",
       "    <tr style=\"text-align: right;\">\n",
       "      <th></th>\n",
       "      <th>account_number</th>\n",
       "      <th>txn_type</th>\n",
       "      <th>txn_amount</th>\n",
       "      <th>txn_date</th>\n",
       "      <th>transaction_frequency</th>\n",
       "      <th>average_transaction_amount</th>\n",
       "      <th>total_transaction_amount</th>\n",
       "      <th>txn_type_encoded</th>\n",
       "      <th>churn</th>\n",
       "      <th>Churn_Prediction</th>\n",
       "    </tr>\n",
       "  </thead>\n",
       "  <tbody>\n",
       "    <tr>\n",
       "      <th>0</th>\n",
       "      <td>45362193617429</td>\n",
       "      <td>cash_out</td>\n",
       "      <td>200.0</td>\n",
       "      <td>2023-01-01</td>\n",
       "      <td>74</td>\n",
       "      <td>1919.324324</td>\n",
       "      <td>142030.00</td>\n",
       "      <td>2</td>\n",
       "      <td>1</td>\n",
       "      <td>1</td>\n",
       "    </tr>\n",
       "    <tr>\n",
       "      <th>1187</th>\n",
       "      <td>21299715344228</td>\n",
       "      <td>cash_in</td>\n",
       "      <td>410.0</td>\n",
       "      <td>2023-01-01</td>\n",
       "      <td>64</td>\n",
       "      <td>1868.123906</td>\n",
       "      <td>119559.93</td>\n",
       "      <td>1</td>\n",
       "      <td>1</td>\n",
       "      <td>1</td>\n",
       "    </tr>\n",
       "    <tr>\n",
       "      <th>1186</th>\n",
       "      <td>58472881890139</td>\n",
       "      <td>cash_out</td>\n",
       "      <td>1000.0</td>\n",
       "      <td>2023-01-01</td>\n",
       "      <td>22</td>\n",
       "      <td>1928.409091</td>\n",
       "      <td>42425.00</td>\n",
       "      <td>2</td>\n",
       "      <td>1</td>\n",
       "      <td>1</td>\n",
       "    </tr>\n",
       "    <tr>\n",
       "      <th>1185</th>\n",
       "      <td>44938538359882</td>\n",
       "      <td>cash_in</td>\n",
       "      <td>74.0</td>\n",
       "      <td>2023-01-01</td>\n",
       "      <td>63</td>\n",
       "      <td>1763.777778</td>\n",
       "      <td>111118.00</td>\n",
       "      <td>1</td>\n",
       "      <td>1</td>\n",
       "      <td>1</td>\n",
       "    </tr>\n",
       "    <tr>\n",
       "      <th>1184</th>\n",
       "      <td>75672305031776</td>\n",
       "      <td>cash_in</td>\n",
       "      <td>3500.0</td>\n",
       "      <td>2023-01-01</td>\n",
       "      <td>42</td>\n",
       "      <td>2329.166667</td>\n",
       "      <td>97825.00</td>\n",
       "      <td>1</td>\n",
       "      <td>1</td>\n",
       "      <td>1</td>\n",
       "    </tr>\n",
       "  </tbody>\n",
       "</table>\n",
       "</div>"
      ],
      "text/plain": [
       "      account_number  txn_type  txn_amount   txn_date  transaction_frequency  \\\n",
       "0     45362193617429  cash_out       200.0 2023-01-01                     74   \n",
       "1187  21299715344228   cash_in       410.0 2023-01-01                     64   \n",
       "1186  58472881890139  cash_out      1000.0 2023-01-01                     22   \n",
       "1185  44938538359882   cash_in        74.0 2023-01-01                     63   \n",
       "1184  75672305031776   cash_in      3500.0 2023-01-01                     42   \n",
       "\n",
       "      average_transaction_amount  total_transaction_amount  txn_type_encoded  \\\n",
       "0                    1919.324324                 142030.00                 2   \n",
       "1187                 1868.123906                 119559.93                 1   \n",
       "1186                 1928.409091                  42425.00                 2   \n",
       "1185                 1763.777778                 111118.00                 1   \n",
       "1184                 2329.166667                  97825.00                 1   \n",
       "\n",
       "      churn  Churn_Prediction  \n",
       "0         1                 1  \n",
       "1187      1                 1  \n",
       "1186      1                 1  \n",
       "1185      1                 1  \n",
       "1184      1                 1  "
      ]
     },
     "execution_count": 91,
     "metadata": {},
     "output_type": "execute_result"
    }
   ],
   "source": [
    "df.head()"
   ]
  },
  {
   "cell_type": "code",
   "execution_count": 94,
   "id": "8b7189f4-1707-4e33-a944-7f285237f6d9",
   "metadata": {
    "tags": []
   },
   "outputs": [
    {
     "name": "stdout",
     "output_type": "stream",
     "text": [
      "Actual Churn Rate: 69.74%\n",
      "Predicted Churn Rate: 73.62%\n",
      "Total Revenue: $1453253398.51\n",
      "Revenue Loss due to Churn: $1013502505.01\n",
      "\n",
      "Proposed Optimization Strategies:\n",
      "1. Targeted Marketing Campaigns: Identify and engage with at-risk customers through personalized marketing.\n",
      "2. Loyalty Programs: Implement loyalty programs to incentivize continued usage and customer satisfaction.\n",
      "3. Enhanced Customer Support: Improve customer support services to address issues and concerns promptly.\n",
      "4. Product/Service Enhancements: Introduce new features or services to meet evolving customer needs.\n"
     ]
    }
   ],
   "source": [
    "import pandas as pd\n",
    "\n",
    "# Assuming you have a DataFrame named 'df' containing customer information\n",
    "# Replace 'Churn_Prediction' with the actual column name representing churn in your dataset\n",
    "# Replace 'actual_revenue_column' with the actual column representing revenue in your dataset\n",
    "\n",
    "# Predict churn using the trained model\n",
    "#df['Churn_Prediction'] = churn_model.predict(df.drop(['account_number', 'txn_date', 'txn_type'], axis=1))\n",
    "\n",
    "# Calculate the actual churn rate\n",
    "actual_churn_rate = df['churn'].mean()\n",
    "\n",
    "# Calculate the predicted churn rate\n",
    "predicted_churn_rate = df['Churn_Prediction'].mean()\n",
    "\n",
    "# Replace 'actual_revenue_column' with the actual column representing revenue in your dataset\n",
    "# or use a relevant calculation based on your business context\n",
    "actual_revenue_column = 'txn_amount'\n",
    "total_revenue = df[actual_revenue_column].sum()\n",
    "\n",
    "# Calculate the impact on revenue\n",
    "revenue_loss_due_to_churn = actual_churn_rate * total_revenue\n",
    "\n",
    "# Proposed optimization strategies\n",
    "retention_strategies = {\n",
    "    '1. Targeted Marketing Campaigns': 'Identify and engage with at-risk customers through personalized marketing.',\n",
    "    '2. Loyalty Programs': 'Implement loyalty programs to incentivize continued usage and customer satisfaction.',\n",
    "    '3. Enhanced Customer Support': 'Improve customer support services to address issues and concerns promptly.',\n",
    "    '4. Product/Service Enhancements': 'Introduce new features or services to meet evolving customer needs.',\n",
    "}\n",
    "\n",
    "# Display results\n",
    "print(f\"Actual Churn Rate: {actual_churn_rate:.2%}\")\n",
    "print(f\"Predicted Churn Rate: {predicted_churn_rate:.2%}\")\n",
    "print(f\"Total Revenue: ${total_revenue:.2f}\")\n",
    "print(f\"Revenue Loss due to Churn: ${revenue_loss_due_to_churn:.2f}\")\n",
    "\n",
    "print(\"\\nProposed Optimization Strategies:\")\n",
    "for strategy, description in retention_strategies.items():\n",
    "    print(f\"{strategy}: {description}\")\n"
   ]
  },
  {
   "cell_type": "markdown",
   "id": "00a71a3c-ea4f-4984-88ce-e28cb941ac00",
   "metadata": {},
   "source": [
    "### Conclusion\n",
    "\n",
    "This project showcases my expertise in predictive analytics, machine learning, and data-driven decision-making. The churn prediction model equips the MFS company with actionable insights to proactively address customer retention.\n"
   ]
  },
  {
   "cell_type": "code",
   "execution_count": null,
   "id": "38252682-3d8c-45a2-aa86-aef371396cb3",
   "metadata": {},
   "outputs": [],
   "source": []
  }
 ],
 "metadata": {
  "kernelspec": {
   "display_name": "Python 3 (ipykernel)",
   "language": "python",
   "name": "python3"
  },
  "language_info": {
   "codemirror_mode": {
    "name": "ipython",
    "version": 3
   },
   "file_extension": ".py",
   "mimetype": "text/x-python",
   "name": "python",
   "nbconvert_exporter": "python",
   "pygments_lexer": "ipython3",
   "version": "3.8.16"
  }
 },
 "nbformat": 4,
 "nbformat_minor": 5
}
