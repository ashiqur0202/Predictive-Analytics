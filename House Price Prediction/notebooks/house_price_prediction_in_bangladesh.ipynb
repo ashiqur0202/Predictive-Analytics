{
 "cells": [
  {
   "cell_type": "markdown",
   "metadata": {},
   "source": [
    "## 1. Project Overview\n",
    "   - **Description:** Predicting house prices in Bangladesh using the beproperty.com dataset.\n",
    "   - **Objective:** Develop an accurate and interpretable model to predict house prices based on various features.\n"
   ]
  },
  {
   "cell_type": "markdown",
   "metadata": {},
   "source": [
    "## 2. Data Collection and Exploration"
   ]
  },
  {
   "cell_type": "markdown",
   "metadata": {},
   "source": [
    "\n",
    "### 2.1 Data Collection\n",
    "- **Accessing beproperty.com Dataset:**\n",
    "  - The dataset has been accessed from beproperty.com.\n",
    "  - Further steps include confirming data integrity and completeness.\n",
    "\n",
    "- **Download and Save:**\n",
    "  - The dataset has been downloaded and saved in the project's `data/raw/` directory.\n",
    "\n"
   ]
  },
  {
   "cell_type": "code",
   "execution_count": 188,
   "metadata": {},
   "outputs": [],
   "source": [
    "\n",
    "import pandas as pd  # For data manipulation and analysis\n",
    "import numpy as np  # For numerical computations\n",
    "import matplotlib.pyplot as plt  # For data visualization\n",
    "import seaborn as sns  # For advanced data visualization\n",
    "import plotly.express as px\n",
    "\n",
    "\n",
    "from sklearn.model_selection import train_test_split  # For splitting data into training and testing sets\n",
    "from sklearn.preprocessing import StandardScaler  # For feature scaling\n",
    "from sklearn.impute import SimpleImputer  # For handling missing values\n",
    "from sklearn.pipeline import Pipeline  # For creating machine learning pipelines\n",
    "\n",
    "# Core machine learning algorithms for regression\n",
    "from sklearn.linear_model import LinearRegression, Ridge, Lasso\n",
    "from sklearn.tree import DecisionTreeRegressor\n",
    "from sklearn.ensemble import RandomForestRegressor, GradientBoostingRegressor\n",
    "\n",
    "# Evaluation metrics\n",
    "from sklearn.metrics import mean_squared_error, r2_score\n",
    "\n",
    "from sklearn.preprocessing import LabelEncoder\n",
    "from scipy.stats import zscore\n",
    "import joblib\n",
    "\n"
   ]
  },
  {
   "cell_type": "code",
   "execution_count": 189,
   "metadata": {},
   "outputs": [],
   "source": [
    "# Loading data\n",
    "def load_data(file_path, file_type=\"csv\"):\n",
    "   \"\"\"Loads data from the specified file path and returns a pandas DataFrame.\n",
    "\n",
    "   \"\"\"\n",
    "\n",
    "   if file_type == \"csv\":\n",
    "       df = pd.read_csv(file_path)\n",
    "   elif file_type == \"excel\":\n",
    "       df = pd.read_excel(file_path)\n",
    "   else:\n",
    "       raise ValueError(\"Unsupported file type.\")\n",
    "\n",
    "   return df"
   ]
  },
  {
   "cell_type": "code",
   "execution_count": 190,
   "metadata": {},
   "outputs": [
    {
     "name": "stdout",
     "output_type": "stream",
     "text": [
      "(4704, 12)\n"
     ]
    }
   ],
   "source": [
    "# Calling the load_data function \n",
    "data_path = \"../data/raw/Bangladesh_property_prices.csv\"  # Replace with the actual path to your data file\n",
    "raw_data = load_data(data_path)\n",
    "\n",
    "# Check the DataFrame:\n",
    "print(raw_data.shape)"
   ]
  },
  {
   "cell_type": "markdown",
   "metadata": {},
   "source": [
    "### 2.2 Data Exploration\n",
    "- **Dataset Structure:**\n",
    "  - The dataset consists of the following columns: `Unnamed: 0.1`, `Unnamed: 0`, `Location`, `Price`, `Type`, `No. Beds`, `No. Baths`, `Area`, `Latitude`, `Longitude`, `Region`, `Sub-region`.\n",
    "\n",
    "- **Target Variable:**\n",
    "  - The target variable for house price prediction is `Price`.\n",
    "\n",
    "- **Potential Predictor Variables:**\n",
    "  - Possible predictor variables include `Type`, `No. Beds`, `No. Baths`, `Area`, `Latitude`, `Longitude`, `Region`, `Sub-region`.\n",
    "\n",
    "- **Data Distributions and Correlations:**\n",
    "  - Further exploration is required to visualize data distributions, correlations, and potential outliers.\n",
    "\n",
    "- **Documentation:**\n",
    "  - Detailed findings and insights will be documented in the `reports/documentation.md` file."
   ]
  },
  {
   "cell_type": "markdown",
   "metadata": {},
   "source": [
    "## 3. Data Preprocessing\n",
    " "
   ]
  },
  {
   "cell_type": "markdown",
   "metadata": {},
   "source": [
    "### 3.1 Cleaning"
   ]
  },
  {
   "cell_type": "code",
   "execution_count": 210,
   "metadata": {},
   "outputs": [],
   "source": [
    "df = raw_data.copy()"
   ]
  },
  {
   "cell_type": "code",
   "execution_count": 211,
   "metadata": {},
   "outputs": [
    {
     "data": {
      "text/html": [
       "<div>\n",
       "<style scoped>\n",
       "    .dataframe tbody tr th:only-of-type {\n",
       "        vertical-align: middle;\n",
       "    }\n",
       "\n",
       "    .dataframe tbody tr th {\n",
       "        vertical-align: top;\n",
       "    }\n",
       "\n",
       "    .dataframe thead th {\n",
       "        text-align: right;\n",
       "    }\n",
       "</style>\n",
       "<table border=\"1\" class=\"dataframe\">\n",
       "  <thead>\n",
       "    <tr style=\"text-align: right;\">\n",
       "      <th></th>\n",
       "      <th>Unnamed: 0.1</th>\n",
       "      <th>Unnamed: 0</th>\n",
       "      <th>Location</th>\n",
       "      <th>Price</th>\n",
       "      <th>Type</th>\n",
       "      <th>No. Beds</th>\n",
       "      <th>No. Baths</th>\n",
       "      <th>Area</th>\n",
       "      <th>Latitude</th>\n",
       "      <th>Longitude</th>\n",
       "      <th>Region</th>\n",
       "      <th>Sub-region</th>\n",
       "    </tr>\n",
       "  </thead>\n",
       "  <tbody>\n",
       "    <tr>\n",
       "      <th>0</th>\n",
       "      <td>0</td>\n",
       "      <td>0.000000</td>\n",
       "      <td>Sector 10, Uttara, Dhaka</td>\n",
       "      <td>7500000</td>\n",
       "      <td>Apartment</td>\n",
       "      <td>3.000000</td>\n",
       "      <td>3.000000</td>\n",
       "      <td>1300.000000</td>\n",
       "      <td>23.868460</td>\n",
       "      <td>90.392800</td>\n",
       "      <td>Uttara</td>\n",
       "      <td>Sector 10</td>\n",
       "    </tr>\n",
       "    <tr>\n",
       "      <th>1</th>\n",
       "      <td>1</td>\n",
       "      <td>1.000000</td>\n",
       "      <td>Section 11, Mirpur, Dhaka</td>\n",
       "      <td>7280000</td>\n",
       "      <td>Apartment</td>\n",
       "      <td>4.000000</td>\n",
       "      <td>4.000000</td>\n",
       "      <td>1456.000000</td>\n",
       "      <td>23.812230</td>\n",
       "      <td>90.359670</td>\n",
       "      <td>Mirpur</td>\n",
       "      <td>Section 11</td>\n",
       "    </tr>\n",
       "    <tr>\n",
       "      <th>2</th>\n",
       "      <td>2</td>\n",
       "      <td>2.000000</td>\n",
       "      <td>Chowdhuripara, Khilgaon, Dhaka</td>\n",
       "      <td>13000000</td>\n",
       "      <td>Apartment</td>\n",
       "      <td>3.000000</td>\n",
       "      <td>3.000000</td>\n",
       "      <td>1550.000000</td>\n",
       "      <td>23.753490</td>\n",
       "      <td>90.424690</td>\n",
       "      <td>Khilgaon</td>\n",
       "      <td>Chowdhuripara</td>\n",
       "    </tr>\n",
       "    <tr>\n",
       "      <th>3</th>\n",
       "      <td>3</td>\n",
       "      <td>3.000000</td>\n",
       "      <td>Road No 4, Banani, Dhaka</td>\n",
       "      <td>37000000</td>\n",
       "      <td>Apartment</td>\n",
       "      <td>3.000000</td>\n",
       "      <td>3.000000</td>\n",
       "      <td>2669.000000</td>\n",
       "      <td>23.788550</td>\n",
       "      <td>90.400810</td>\n",
       "      <td>Banani</td>\n",
       "      <td>Road No 4</td>\n",
       "    </tr>\n",
       "    <tr>\n",
       "      <th>4</th>\n",
       "      <td>4</td>\n",
       "      <td>4.000000</td>\n",
       "      <td>South Banasree Project, Banasree, Dhaka</td>\n",
       "      <td>3600000</td>\n",
       "      <td>Apartment</td>\n",
       "      <td>2.000000</td>\n",
       "      <td>2.000000</td>\n",
       "      <td>835.000000</td>\n",
       "      <td>23.763540</td>\n",
       "      <td>90.431800</td>\n",
       "      <td>Banasree</td>\n",
       "      <td>South Banasree Project</td>\n",
       "    </tr>\n",
       "  </tbody>\n",
       "</table>\n",
       "</div>"
      ],
      "text/plain": [
       "   Unnamed: 0.1  Unnamed: 0                                 Location  \\\n",
       "0             0    0.000000                 Sector 10, Uttara, Dhaka   \n",
       "1             1    1.000000                Section 11, Mirpur, Dhaka   \n",
       "2             2    2.000000           Chowdhuripara, Khilgaon, Dhaka   \n",
       "3             3    3.000000                 Road No 4, Banani, Dhaka   \n",
       "4             4    4.000000  South Banasree Project, Banasree, Dhaka   \n",
       "\n",
       "      Price       Type  No. Beds  No. Baths        Area  Latitude  Longitude  \\\n",
       "0   7500000  Apartment  3.000000   3.000000 1300.000000 23.868460  90.392800   \n",
       "1   7280000  Apartment  4.000000   4.000000 1456.000000 23.812230  90.359670   \n",
       "2  13000000  Apartment  3.000000   3.000000 1550.000000 23.753490  90.424690   \n",
       "3  37000000  Apartment  3.000000   3.000000 2669.000000 23.788550  90.400810   \n",
       "4   3600000  Apartment  2.000000   2.000000  835.000000 23.763540  90.431800   \n",
       "\n",
       "     Region              Sub-region  \n",
       "0    Uttara               Sector 10  \n",
       "1    Mirpur              Section 11  \n",
       "2  Khilgaon           Chowdhuripara  \n",
       "3    Banani               Road No 4  \n",
       "4  Banasree  South Banasree Project  "
      ]
     },
     "execution_count": 211,
     "metadata": {},
     "output_type": "execute_result"
    }
   ],
   "source": [
    "df.head()"
   ]
  },
  {
   "cell_type": "code",
   "execution_count": 212,
   "metadata": {},
   "outputs": [],
   "source": [
    "# Droping features\n",
    "df.drop(columns=[\"Unnamed: 0.1\", \"Unnamed: 0\", \"Location\"], inplace=True)"
   ]
  },
  {
   "cell_type": "code",
   "execution_count": 213,
   "metadata": {},
   "outputs": [],
   "source": [
    "# Set the display format to show whole numbers\n",
    "pd.set_option('display.float_format', lambda x: '%.06f' % x)"
   ]
  },
  {
   "cell_type": "code",
   "execution_count": 214,
   "metadata": {},
   "outputs": [
    {
     "name": "stdout",
     "output_type": "stream",
     "text": [
      "Original Data Information:\n",
      "<class 'pandas.core.frame.DataFrame'>\n",
      "RangeIndex: 4704 entries, 0 to 4703\n",
      "Data columns (total 9 columns):\n",
      " #   Column      Non-Null Count  Dtype  \n",
      "---  ------      --------------  -----  \n",
      " 0   Price       4704 non-null   int64  \n",
      " 1   Type        4704 non-null   object \n",
      " 2   No. Beds    4500 non-null   float64\n",
      " 3   No. Baths   4500 non-null   float64\n",
      " 4   Area        4704 non-null   float64\n",
      " 5   Latitude    4704 non-null   float64\n",
      " 6   Longitude   4704 non-null   float64\n",
      " 7   Region      4704 non-null   object \n",
      " 8   Sub-region  4680 non-null   object \n",
      "dtypes: float64(5), int64(1), object(3)\n",
      "memory usage: 330.9+ KB\n",
      "None\n"
     ]
    }
   ],
   "source": [
    "# Display basic information about the dataset\n",
    "print(\"Original Data Information:\")\n",
    "print(df.info())"
   ]
  },
  {
   "cell_type": "code",
   "execution_count": 215,
   "metadata": {},
   "outputs": [
    {
     "data": {
      "text/plain": [
       "Price           0\n",
       "Type            0\n",
       "No. Beds      204\n",
       "No. Baths     204\n",
       "Area            0\n",
       "Latitude        0\n",
       "Longitude       0\n",
       "Region          0\n",
       "Sub-region     24\n",
       "dtype: int64"
      ]
     },
     "execution_count": 215,
     "metadata": {},
     "output_type": "execute_result"
    }
   ],
   "source": [
    "df.isnull().sum()"
   ]
  },
  {
   "cell_type": "code",
   "execution_count": 216,
   "metadata": {},
   "outputs": [],
   "source": [
    "# Fill missing values with mean or median\n",
    "df['No. Beds'].fillna(df['No. Beds'].median(), inplace=True)\n",
    "df['No. Baths'].fillna(df['No. Baths'].median(), inplace=True)"
   ]
  },
  {
   "cell_type": "code",
   "execution_count": 217,
   "metadata": {},
   "outputs": [],
   "source": [
    "# Handling missing values\n",
    "df.dropna(inplace=True)  # Drop rows with missing values\n"
   ]
  },
  {
   "cell_type": "code",
   "execution_count": 218,
   "metadata": {},
   "outputs": [
    {
     "name": "stdout",
     "output_type": "stream",
     "text": [
      "\n",
      "Data Information after Handling Missing Values and Duplicates:\n",
      "<class 'pandas.core.frame.DataFrame'>\n",
      "Index: 4680 entries, 0 to 4703\n",
      "Data columns (total 9 columns):\n",
      " #   Column      Non-Null Count  Dtype  \n",
      "---  ------      --------------  -----  \n",
      " 0   Price       4680 non-null   int64  \n",
      " 1   Type        4680 non-null   object \n",
      " 2   No. Beds    4680 non-null   float64\n",
      " 3   No. Baths   4680 non-null   float64\n",
      " 4   Area        4680 non-null   float64\n",
      " 5   Latitude    4680 non-null   float64\n",
      " 6   Longitude   4680 non-null   float64\n",
      " 7   Region      4680 non-null   object \n",
      " 8   Sub-region  4680 non-null   object \n",
      "dtypes: float64(5), int64(1), object(3)\n",
      "memory usage: 365.6+ KB\n",
      "None\n"
     ]
    }
   ],
   "source": [
    "# Display information after handling missing values and duplicates\n",
    "print(\"\\nData Information after Handling Missing Values and Duplicates:\")\n",
    "print(df.info())\n"
   ]
  },
  {
   "cell_type": "code",
   "execution_count": 219,
   "metadata": {},
   "outputs": [],
   "source": [
    "# Outliers using Standard Deviation Method\n",
    "mean = df[['Price', 'No. Beds', 'No. Baths', 'Area']].mean()\n",
    "std_dev = df[['Price', 'No. Beds', 'No. Baths', 'Area']].std()\n",
    "threshold = 3  # Adjust based on your preference\n",
    "outliers = (df[['Price', 'No. Beds', 'No. Baths', 'Area']] - mean).abs() > threshold * std_dev\n"
   ]
  },
  {
   "cell_type": "code",
   "execution_count": 220,
   "metadata": {},
   "outputs": [],
   "source": [
    "# Outliers using Box Plot (IQR) Method\n",
    "Q1 = df[['Price', 'No. Beds', 'No. Baths', 'Area']].quantile(0.25)\n",
    "Q3 = df[['Price', 'No. Beds', 'No. Baths', 'Area']].quantile(0.75)\n",
    "IQR = Q3 - Q1\n",
    "outliers = (df[['Price', 'No. Beds', 'No. Baths', 'Area']] < Q1 - 1.5 * IQR) | (df[['Price', 'No. Beds', 'No. Baths', 'Area']] > Q3 + 1.5 * IQR)\n"
   ]
  },
  {
   "cell_type": "code",
   "execution_count": 221,
   "metadata": {},
   "outputs": [],
   "source": [
    "# Outliers using Z-Score Method:\n",
    "z_scores = (df[['Price', 'No. Beds', 'No. Baths', 'Area']] - df[['Price', 'No. Beds', 'No. Baths', 'Area']].mean()) / df[['Price', 'No. Beds', 'No. Baths', 'Area']].std()\n",
    "threshold = 3  # Adjust based on your preference\n",
    "outliers = z_scores.abs() > threshold\n"
   ]
  },
  {
   "cell_type": "markdown",
   "metadata": {},
   "source": [
    "### 3.2 Feature Engineering"
   ]
  },
  {
   "cell_type": "code",
   "execution_count": 222,
   "metadata": {},
   "outputs": [],
   "source": [
    "# Price per Square Foot\n",
    "df['Price_per_sqft'] = df['Price'] / df['Area']"
   ]
  },
  {
   "cell_type": "code",
   "execution_count": 223,
   "metadata": {},
   "outputs": [],
   "source": [
    "# Interaction Features\n",
    "df['Beds_Baths_Ratio'] = df['No. Beds'] / df['No. Baths']"
   ]
  },
  {
   "cell_type": "code",
   "execution_count": 224,
   "metadata": {},
   "outputs": [],
   "source": [
    "# Binning - Convert Continuous Variable to Categorical\n",
    "bins = [0, 1000, 2000, 3000, float('inf')]\n",
    "labels = ['Small', 'Medium', 'Large', 'Very Large']\n",
    "df['Area_Category'] = pd.cut(df['Area'], bins=bins, labels=labels, right=False)"
   ]
  },
  {
   "cell_type": "code",
   "execution_count": 225,
   "metadata": {},
   "outputs": [],
   "source": [
    "# Log Transformation for Skewed Variables\n",
    "df['Log_Price'] = np.log1p(df['Price'])"
   ]
  },
  {
   "cell_type": "code",
   "execution_count": 226,
   "metadata": {},
   "outputs": [],
   "source": [
    "# Assuming 'Type' has categories like 'Apartment', 'Plot', etc.\n",
    "#df = pd.get_dummies(df, columns=['Type'], prefix='Type', dtype=int)\n"
   ]
  },
  {
   "cell_type": "code",
   "execution_count": 227,
   "metadata": {},
   "outputs": [],
   "source": [
    "# Instantiate LabelEncoder\n",
    "label_encoder = LabelEncoder()\n",
    "\n",
    "# Categorical to Numerical transformation\n",
    "df['Type_n'] = label_encoder.fit_transform(df['Type'])\n",
    "df['Region_n'] = label_encoder.fit_transform(df['Region'])\n",
    "df['Sub-region_n'] = label_encoder.fit_transform(df['Sub-region'])\n",
    "df['Area_Category'] = label_encoder.fit_transform(df['Area_Category'])\n"
   ]
  },
  {
   "cell_type": "code",
   "execution_count": 228,
   "metadata": {},
   "outputs": [
    {
     "data": {
      "text/html": [
       "<div>\n",
       "<style scoped>\n",
       "    .dataframe tbody tr th:only-of-type {\n",
       "        vertical-align: middle;\n",
       "    }\n",
       "\n",
       "    .dataframe tbody tr th {\n",
       "        vertical-align: top;\n",
       "    }\n",
       "\n",
       "    .dataframe thead th {\n",
       "        text-align: right;\n",
       "    }\n",
       "</style>\n",
       "<table border=\"1\" class=\"dataframe\">\n",
       "  <thead>\n",
       "    <tr style=\"text-align: right;\">\n",
       "      <th></th>\n",
       "      <th>Price</th>\n",
       "      <th>Type</th>\n",
       "      <th>No. Beds</th>\n",
       "      <th>No. Baths</th>\n",
       "      <th>Area</th>\n",
       "      <th>Latitude</th>\n",
       "      <th>Longitude</th>\n",
       "      <th>Region</th>\n",
       "      <th>Sub-region</th>\n",
       "      <th>Price_per_sqft</th>\n",
       "      <th>Beds_Baths_Ratio</th>\n",
       "      <th>Area_Category</th>\n",
       "      <th>Log_Price</th>\n",
       "      <th>Type_n</th>\n",
       "      <th>Region_n</th>\n",
       "      <th>Sub-region_n</th>\n",
       "    </tr>\n",
       "  </thead>\n",
       "  <tbody>\n",
       "    <tr>\n",
       "      <th>2846</th>\n",
       "      <td>9240000</td>\n",
       "      <td>Apartment</td>\n",
       "      <td>3.000000</td>\n",
       "      <td>3.000000</td>\n",
       "      <td>1155.000000</td>\n",
       "      <td>23.745450</td>\n",
       "      <td>90.387760</td>\n",
       "      <td>Kathalbagan</td>\n",
       "      <td>Crescent Road</td>\n",
       "      <td>8000.000000</td>\n",
       "      <td>1.000000</td>\n",
       "      <td>1</td>\n",
       "      <td>16.039053</td>\n",
       "      <td>0</td>\n",
       "      <td>29</td>\n",
       "      <td>79</td>\n",
       "    </tr>\n",
       "    <tr>\n",
       "      <th>1850</th>\n",
       "      <td>8500000</td>\n",
       "      <td>Apartment</td>\n",
       "      <td>3.000000</td>\n",
       "      <td>3.000000</td>\n",
       "      <td>1275.000000</td>\n",
       "      <td>23.755960</td>\n",
       "      <td>90.370650</td>\n",
       "      <td>AftabNagar</td>\n",
       "      <td>Block C</td>\n",
       "      <td>6666.666667</td>\n",
       "      <td>1.000000</td>\n",
       "      <td>1</td>\n",
       "      <td>15.955577</td>\n",
       "      <td>0</td>\n",
       "      <td>1</td>\n",
       "      <td>50</td>\n",
       "    </tr>\n",
       "    <tr>\n",
       "      <th>802</th>\n",
       "      <td>10000000</td>\n",
       "      <td>Apartment</td>\n",
       "      <td>3.000000</td>\n",
       "      <td>4.000000</td>\n",
       "      <td>1560.000000</td>\n",
       "      <td>23.764270</td>\n",
       "      <td>90.365470</td>\n",
       "      <td>Mohammadpur</td>\n",
       "      <td>PC Culture Housing</td>\n",
       "      <td>6410.256410</td>\n",
       "      <td>0.750000</td>\n",
       "      <td>1</td>\n",
       "      <td>16.118096</td>\n",
       "      <td>0</td>\n",
       "      <td>43</td>\n",
       "      <td>276</td>\n",
       "    </tr>\n",
       "    <tr>\n",
       "      <th>1369</th>\n",
       "      <td>8200000</td>\n",
       "      <td>Apartment</td>\n",
       "      <td>3.000000</td>\n",
       "      <td>3.000000</td>\n",
       "      <td>1169.000000</td>\n",
       "      <td>23.753490</td>\n",
       "      <td>90.424690</td>\n",
       "      <td>Khilgaon</td>\n",
       "      <td>Chowdhuripara</td>\n",
       "      <td>7014.542344</td>\n",
       "      <td>1.000000</td>\n",
       "      <td>1</td>\n",
       "      <td>15.919645</td>\n",
       "      <td>0</td>\n",
       "      <td>31</td>\n",
       "      <td>75</td>\n",
       "    </tr>\n",
       "    <tr>\n",
       "      <th>439</th>\n",
       "      <td>6250000</td>\n",
       "      <td>Apartment</td>\n",
       "      <td>3.000000</td>\n",
       "      <td>3.000000</td>\n",
       "      <td>1250.000000</td>\n",
       "      <td>23.814670</td>\n",
       "      <td>90.373060</td>\n",
       "      <td>Mirpur</td>\n",
       "      <td>Kallyanpur</td>\n",
       "      <td>5000.000000</td>\n",
       "      <td>1.000000</td>\n",
       "      <td>1</td>\n",
       "      <td>15.648092</td>\n",
       "      <td>0</td>\n",
       "      <td>40</td>\n",
       "      <td>163</td>\n",
       "    </tr>\n",
       "  </tbody>\n",
       "</table>\n",
       "</div>"
      ],
      "text/plain": [
       "         Price       Type  No. Beds  No. Baths        Area  Latitude  \\\n",
       "2846   9240000  Apartment  3.000000   3.000000 1155.000000 23.745450   \n",
       "1850   8500000  Apartment  3.000000   3.000000 1275.000000 23.755960   \n",
       "802   10000000  Apartment  3.000000   4.000000 1560.000000 23.764270   \n",
       "1369   8200000  Apartment  3.000000   3.000000 1169.000000 23.753490   \n",
       "439    6250000  Apartment  3.000000   3.000000 1250.000000 23.814670   \n",
       "\n",
       "      Longitude       Region          Sub-region  Price_per_sqft  \\\n",
       "2846  90.387760  Kathalbagan       Crescent Road     8000.000000   \n",
       "1850  90.370650   AftabNagar             Block C     6666.666667   \n",
       "802   90.365470  Mohammadpur  PC Culture Housing     6410.256410   \n",
       "1369  90.424690     Khilgaon       Chowdhuripara     7014.542344   \n",
       "439   90.373060       Mirpur          Kallyanpur     5000.000000   \n",
       "\n",
       "      Beds_Baths_Ratio  Area_Category  Log_Price  Type_n  Region_n  \\\n",
       "2846          1.000000              1  16.039053       0        29   \n",
       "1850          1.000000              1  15.955577       0         1   \n",
       "802           0.750000              1  16.118096       0        43   \n",
       "1369          1.000000              1  15.919645       0        31   \n",
       "439           1.000000              1  15.648092       0        40   \n",
       "\n",
       "      Sub-region_n  \n",
       "2846            79  \n",
       "1850            50  \n",
       "802            276  \n",
       "1369            75  \n",
       "439            163  "
      ]
     },
     "execution_count": 228,
     "metadata": {},
     "output_type": "execute_result"
    }
   ],
   "source": [
    "df.sample(5)"
   ]
  },
  {
   "cell_type": "code",
   "execution_count": 229,
   "metadata": {},
   "outputs": [],
   "source": [
    "new_df = df[['Price', 'No. Beds', 'No. Baths', 'Area', 'Type_n', 'Region_n', 'Sub-region_n']]"
   ]
  },
  {
   "cell_type": "code",
   "execution_count": 230,
   "metadata": {},
   "outputs": [
    {
     "data": {
      "text/html": [
       "<div>\n",
       "<style scoped>\n",
       "    .dataframe tbody tr th:only-of-type {\n",
       "        vertical-align: middle;\n",
       "    }\n",
       "\n",
       "    .dataframe tbody tr th {\n",
       "        vertical-align: top;\n",
       "    }\n",
       "\n",
       "    .dataframe thead th {\n",
       "        text-align: right;\n",
       "    }\n",
       "</style>\n",
       "<table border=\"1\" class=\"dataframe\">\n",
       "  <thead>\n",
       "    <tr style=\"text-align: right;\">\n",
       "      <th></th>\n",
       "      <th>Price</th>\n",
       "      <th>No. Beds</th>\n",
       "      <th>No. Baths</th>\n",
       "      <th>Area</th>\n",
       "      <th>Type_n</th>\n",
       "      <th>Region_n</th>\n",
       "      <th>Sub-region_n</th>\n",
       "    </tr>\n",
       "  </thead>\n",
       "  <tbody>\n",
       "    <tr>\n",
       "      <th>0</th>\n",
       "      <td>7500000</td>\n",
       "      <td>3.000000</td>\n",
       "      <td>3.000000</td>\n",
       "      <td>1300.000000</td>\n",
       "      <td>0</td>\n",
       "      <td>66</td>\n",
       "      <td>350</td>\n",
       "    </tr>\n",
       "    <tr>\n",
       "      <th>1</th>\n",
       "      <td>7280000</td>\n",
       "      <td>4.000000</td>\n",
       "      <td>4.000000</td>\n",
       "      <td>1456.000000</td>\n",
       "      <td>0</td>\n",
       "      <td>40</td>\n",
       "      <td>342</td>\n",
       "    </tr>\n",
       "    <tr>\n",
       "      <th>2</th>\n",
       "      <td>13000000</td>\n",
       "      <td>3.000000</td>\n",
       "      <td>3.000000</td>\n",
       "      <td>1550.000000</td>\n",
       "      <td>0</td>\n",
       "      <td>31</td>\n",
       "      <td>75</td>\n",
       "    </tr>\n",
       "    <tr>\n",
       "      <th>3</th>\n",
       "      <td>37000000</td>\n",
       "      <td>3.000000</td>\n",
       "      <td>3.000000</td>\n",
       "      <td>2669.000000</td>\n",
       "      <td>0</td>\n",
       "      <td>4</td>\n",
       "      <td>320</td>\n",
       "    </tr>\n",
       "    <tr>\n",
       "      <th>4</th>\n",
       "      <td>3600000</td>\n",
       "      <td>2.000000</td>\n",
       "      <td>2.000000</td>\n",
       "      <td>835.000000</td>\n",
       "      <td>0</td>\n",
       "      <td>6</td>\n",
       "      <td>406</td>\n",
       "    </tr>\n",
       "    <tr>\n",
       "      <th>...</th>\n",
       "      <td>...</td>\n",
       "      <td>...</td>\n",
       "      <td>...</td>\n",
       "      <td>...</td>\n",
       "      <td>...</td>\n",
       "      <td>...</td>\n",
       "      <td>...</td>\n",
       "    </tr>\n",
       "    <tr>\n",
       "      <th>4699</th>\n",
       "      <td>4950000</td>\n",
       "      <td>3.000000</td>\n",
       "      <td>2.000000</td>\n",
       "      <td>1100.000000</td>\n",
       "      <td>0</td>\n",
       "      <td>40</td>\n",
       "      <td>223</td>\n",
       "    </tr>\n",
       "    <tr>\n",
       "      <th>4700</th>\n",
       "      <td>4950000</td>\n",
       "      <td>3.000000</td>\n",
       "      <td>2.000000</td>\n",
       "      <td>1100.000000</td>\n",
       "      <td>0</td>\n",
       "      <td>40</td>\n",
       "      <td>223</td>\n",
       "    </tr>\n",
       "    <tr>\n",
       "      <th>4701</th>\n",
       "      <td>4950000</td>\n",
       "      <td>3.000000</td>\n",
       "      <td>2.000000</td>\n",
       "      <td>1100.000000</td>\n",
       "      <td>0</td>\n",
       "      <td>40</td>\n",
       "      <td>223</td>\n",
       "    </tr>\n",
       "    <tr>\n",
       "      <th>4702</th>\n",
       "      <td>4950000</td>\n",
       "      <td>3.000000</td>\n",
       "      <td>2.000000</td>\n",
       "      <td>1100.000000</td>\n",
       "      <td>0</td>\n",
       "      <td>40</td>\n",
       "      <td>223</td>\n",
       "    </tr>\n",
       "    <tr>\n",
       "      <th>4703</th>\n",
       "      <td>4950000</td>\n",
       "      <td>3.000000</td>\n",
       "      <td>2.000000</td>\n",
       "      <td>1100.000000</td>\n",
       "      <td>0</td>\n",
       "      <td>40</td>\n",
       "      <td>223</td>\n",
       "    </tr>\n",
       "  </tbody>\n",
       "</table>\n",
       "<p>4680 rows × 7 columns</p>\n",
       "</div>"
      ],
      "text/plain": [
       "         Price  No. Beds  No. Baths        Area  Type_n  Region_n  \\\n",
       "0      7500000  3.000000   3.000000 1300.000000       0        66   \n",
       "1      7280000  4.000000   4.000000 1456.000000       0        40   \n",
       "2     13000000  3.000000   3.000000 1550.000000       0        31   \n",
       "3     37000000  3.000000   3.000000 2669.000000       0         4   \n",
       "4      3600000  2.000000   2.000000  835.000000       0         6   \n",
       "...        ...       ...        ...         ...     ...       ...   \n",
       "4699   4950000  3.000000   2.000000 1100.000000       0        40   \n",
       "4700   4950000  3.000000   2.000000 1100.000000       0        40   \n",
       "4701   4950000  3.000000   2.000000 1100.000000       0        40   \n",
       "4702   4950000  3.000000   2.000000 1100.000000       0        40   \n",
       "4703   4950000  3.000000   2.000000 1100.000000       0        40   \n",
       "\n",
       "      Sub-region_n  \n",
       "0              350  \n",
       "1              342  \n",
       "2               75  \n",
       "3              320  \n",
       "4              406  \n",
       "...            ...  \n",
       "4699           223  \n",
       "4700           223  \n",
       "4701           223  \n",
       "4702           223  \n",
       "4703           223  \n",
       "\n",
       "[4680 rows x 7 columns]"
      ]
     },
     "execution_count": 230,
     "metadata": {},
     "output_type": "execute_result"
    }
   ],
   "source": [
    "new_df"
   ]
  },
  {
   "cell_type": "markdown",
   "metadata": {},
   "source": [
    "### 3.3 Train-Test Split"
   ]
  },
  {
   "cell_type": "code",
   "execution_count": 231,
   "metadata": {},
   "outputs": [],
   "source": [
    "df=new_df.copy()"
   ]
  },
  {
   "cell_type": "code",
   "execution_count": 232,
   "metadata": {},
   "outputs": [
    {
     "name": "stdout",
     "output_type": "stream",
     "text": [
      "Training set shape: (3744, 6) (3744,)\n",
      "Testing set shape: (936, 6) (936,)\n"
     ]
    }
   ],
   "source": [
    "# Define features (X) and target variable (y)\n",
    "X = df.drop(\"Price\", axis=1)  # Features\n",
    "y = df[\"Price\"]  # Target variable\n",
    "\n",
    "# Perform train-test split\n",
    "test_size = 0.2  # You can adjust the test size based on your preference\n",
    "random_state = 42  # Set a random state for reproducibility\n",
    "X_train, X_test, y_train, y_test = train_test_split(X, y, test_size=test_size, random_state=random_state)\n",
    "\n",
    "# Display the shape of the resulting sets\n",
    "print(\"Training set shape:\", X_train.shape, y_train.shape)\n",
    "print(\"Testing set shape:\", X_test.shape, y_test.shape)"
   ]
  },
  {
   "cell_type": "markdown",
   "metadata": {},
   "source": [
    "### 3.4 Save Processed Data"
   ]
  },
  {
   "cell_type": "code",
   "execution_count": 117,
   "metadata": {},
   "outputs": [],
   "source": [
    "import os\n",
    "\n",
    "# Create the 'processed' directory if it doesn't exist\n",
    "processed_dir = '../data/processed/'\n",
    "os.makedirs(processed_dir, exist_ok=True)\n",
    "\n",
    "# Save the processed data to 'data/processed/'\n",
    "processed_data_path = os.path.join(processed_dir, 'processed_data.csv')\n",
    "df.to_csv(processed_data_path, index=False)\n"
   ]
  },
  {
   "cell_type": "markdown",
   "metadata": {},
   "source": [
    "## 4. Model Development\n"
   ]
  },
  {
   "cell_type": "markdown",
   "metadata": {},
   "source": [
    "### 4.1 Model Selection"
   ]
  },
  {
   "cell_type": "code",
   "execution_count": 233,
   "metadata": {},
   "outputs": [],
   "source": [
    "# Import necessary libraries\n",
    "from sklearn.linear_model import LinearRegression\n",
    "from sklearn.tree import DecisionTreeRegressor\n",
    "from sklearn.ensemble import RandomForestRegressor\n",
    "from sklearn.metrics import mean_absolute_error, mean_squared_error, r2_score\n",
    "from sklearn.neighbors import KNeighborsRegressor\n",
    "from sklearn.svm import SVR\n",
    "from sklearn.ensemble import GradientBoostingRegressor\n",
    "from xgboost import XGBRegressor\n",
    "from lightgbm import LGBMRegressor\n"
   ]
  },
  {
   "cell_type": "code",
   "execution_count": 234,
   "metadata": {},
   "outputs": [],
   "source": [
    "# 1. Linear Regression Model\n",
    "linear_model = LinearRegression()\n",
    "linear_model.fit(X_train, y_train)\n",
    "linear_predictions = linear_model.predict(X_test)"
   ]
  },
  {
   "cell_type": "code",
   "execution_count": 235,
   "metadata": {},
   "outputs": [],
   "source": [
    "\n",
    "# Evaluate Linear Regression model\n",
    "linear_mae = mean_absolute_error(y_test, linear_predictions)\n",
    "linear_mse = mean_squared_error(y_test, linear_predictions)\n",
    "linear_r2 = r2_score(y_test, linear_predictions)"
   ]
  },
  {
   "cell_type": "code",
   "execution_count": 236,
   "metadata": {},
   "outputs": [
    {
     "name": "stdout",
     "output_type": "stream",
     "text": [
      "Linear Regression Model:\n",
      "Mean Absolute Error: 3442509.7832360277\n",
      "Mean Squared Error: 38339350324442.04\n",
      "R-squared: 0.5817791564940148\n",
      "\n"
     ]
    }
   ],
   "source": [
    "\n",
    "print(\"Linear Regression Model:\")\n",
    "print(f\"Mean Absolute Error: {linear_mae}\")\n",
    "print(f\"Mean Squared Error: {linear_mse}\")\n",
    "print(f\"R-squared: {linear_r2}\\n\")"
   ]
  },
  {
   "cell_type": "code",
   "execution_count": 237,
   "metadata": {},
   "outputs": [],
   "source": [
    "# 2. Decision Tree Model\n",
    "decision_tree_model = DecisionTreeRegressor(random_state=random_state)\n",
    "decision_tree_model.fit(X_train, y_train)\n",
    "dt_predictions = decision_tree_model.predict(X_test)"
   ]
  },
  {
   "cell_type": "code",
   "execution_count": 238,
   "metadata": {},
   "outputs": [],
   "source": [
    "# Evaluate Decision Tree model\n",
    "dt_mae = mean_absolute_error(y_test, dt_predictions)\n",
    "dt_mse = mean_squared_error(y_test, dt_predictions)\n",
    "dt_r2 = r2_score(y_test, dt_predictions)"
   ]
  },
  {
   "cell_type": "code",
   "execution_count": 239,
   "metadata": {},
   "outputs": [
    {
     "name": "stdout",
     "output_type": "stream",
     "text": [
      "Decision Tree Model:\n",
      "Mean Absolute Error: 1910511.684115801\n",
      "Mean Squared Error: 28082623193487.41\n",
      "R-squared: 0.6936636051353859\n",
      "\n"
     ]
    }
   ],
   "source": [
    "print(\"Decision Tree Model:\")\n",
    "print(f\"Mean Absolute Error: {dt_mae}\")\n",
    "print(f\"Mean Squared Error: {dt_mse}\")\n",
    "print(f\"R-squared: {dt_r2}\\n\")"
   ]
  },
  {
   "cell_type": "code",
   "execution_count": 240,
   "metadata": {},
   "outputs": [],
   "source": [
    "# 3. Random Forest Model\n",
    "random_forest_model = RandomForestRegressor(random_state=random_state)\n",
    "random_forest_model.fit(X_train, y_train)\n",
    "rf_predictions = random_forest_model.predict(X_test)"
   ]
  },
  {
   "cell_type": "code",
   "execution_count": 241,
   "metadata": {},
   "outputs": [],
   "source": [
    "# Evaluate Random Forest model\n",
    "rf_mae = mean_absolute_error(y_test, rf_predictions)\n",
    "rf_mse = mean_squared_error(y_test, rf_predictions)\n",
    "rf_r2 = r2_score(y_test, rf_predictions)"
   ]
  },
  {
   "cell_type": "code",
   "execution_count": 242,
   "metadata": {},
   "outputs": [
    {
     "name": "stdout",
     "output_type": "stream",
     "text": [
      "Random Forest Model:\n",
      "Mean Absolute Error: 1550345.7269322567\n",
      "Mean Squared Error: 15613324938029.072\n",
      "R-squared: 0.8296836573844426\n"
     ]
    }
   ],
   "source": [
    "\n",
    "print(\"Random Forest Model:\")\n",
    "print(f\"Mean Absolute Error: {rf_mae}\")\n",
    "print(f\"Mean Squared Error: {rf_mse}\")\n",
    "print(f\"R-squared: {rf_r2}\")\n"
   ]
  },
  {
   "cell_type": "code",
   "execution_count": 243,
   "metadata": {},
   "outputs": [],
   "source": [
    "# 4. K-Nearest Neighbors (KNN) Model\n",
    "knn_model = KNeighborsRegressor()\n",
    "knn_model.fit(X_train, y_train)\n",
    "knn_predictions = knn_model.predict(X_test)"
   ]
  },
  {
   "cell_type": "code",
   "execution_count": 244,
   "metadata": {},
   "outputs": [],
   "source": [
    "# Evaluate KNN model\n",
    "knn_mae = mean_absolute_error(y_test, knn_predictions)\n",
    "knn_mse = mean_squared_error(y_test, knn_predictions)\n",
    "knn_r2 = r2_score(y_test, knn_predictions)\n"
   ]
  },
  {
   "cell_type": "code",
   "execution_count": 245,
   "metadata": {},
   "outputs": [
    {
     "name": "stdout",
     "output_type": "stream",
     "text": [
      "K-Nearest Neighbors (KNN) Model:\n",
      "Mean Absolute Error: 1941915.666239316\n",
      "Mean Squared Error: 20735168527090.316\n",
      "R-squared: 0.7738125555531392\n",
      "\n"
     ]
    }
   ],
   "source": [
    "print(\"K-Nearest Neighbors (KNN) Model:\")\n",
    "print(f\"Mean Absolute Error: {knn_mae}\")\n",
    "print(f\"Mean Squared Error: {knn_mse}\")\n",
    "print(f\"R-squared: {knn_r2}\\n\")"
   ]
  },
  {
   "cell_type": "code",
   "execution_count": 246,
   "metadata": {},
   "outputs": [],
   "source": [
    "# 5. Support Vector Machine (SVM) Model\n",
    "svm_model = SVR()\n",
    "svm_model.fit(X_train, y_train)\n",
    "svm_predictions = svm_model.predict(X_test)"
   ]
  },
  {
   "cell_type": "code",
   "execution_count": 247,
   "metadata": {},
   "outputs": [],
   "source": [
    "# Evaluate SVM model\n",
    "svm_mae = mean_absolute_error(y_test, svm_predictions)\n",
    "svm_mse = mean_squared_error(y_test, svm_predictions)\n",
    "svm_r2 = r2_score(y_test, svm_predictions)"
   ]
  },
  {
   "cell_type": "code",
   "execution_count": 248,
   "metadata": {},
   "outputs": [
    {
     "name": "stdout",
     "output_type": "stream",
     "text": [
      "Support Vector Machine (SVM) Model:\n",
      "Mean Absolute Error: 5049360.640682706\n",
      "Mean Squared Error: 100335839800140.11\n",
      "R-squared: -0.09450314624512823\n",
      "\n"
     ]
    }
   ],
   "source": [
    "print(\"Support Vector Machine (SVM) Model:\")\n",
    "print(f\"Mean Absolute Error: {svm_mae}\")\n",
    "print(f\"Mean Squared Error: {svm_mse}\")\n",
    "print(f\"R-squared: {svm_r2}\\n\")"
   ]
  },
  {
   "cell_type": "code",
   "execution_count": 249,
   "metadata": {},
   "outputs": [],
   "source": [
    "\n",
    "# 6. Gradient Boosting Model\n",
    "gradient_boosting_model = GradientBoostingRegressor(random_state=random_state)\n",
    "gradient_boosting_model.fit(X_train, y_train)\n",
    "gb_predictions = gradient_boosting_model.predict(X_test)"
   ]
  },
  {
   "cell_type": "code",
   "execution_count": 250,
   "metadata": {},
   "outputs": [],
   "source": [
    "# Evaluate Gradient Boosting model\n",
    "gb_mae = mean_absolute_error(y_test, gb_predictions)\n",
    "gb_mse = mean_squared_error(y_test, gb_predictions)\n",
    "gb_r2 = r2_score(y_test, gb_predictions)"
   ]
  },
  {
   "cell_type": "code",
   "execution_count": 251,
   "metadata": {},
   "outputs": [
    {
     "name": "stdout",
     "output_type": "stream",
     "text": [
      "Gradient Boosting Model:\n",
      "Mean Absolute Error: 1993652.8230149613\n",
      "Mean Squared Error: 16496248067779.414\n",
      "R-squared: 0.8200523816077187\n",
      "\n"
     ]
    }
   ],
   "source": [
    "print(\"Gradient Boosting Model:\")\n",
    "print(f\"Mean Absolute Error: {gb_mae}\")\n",
    "print(f\"Mean Squared Error: {gb_mse}\")\n",
    "print(f\"R-squared: {gb_r2}\\n\")"
   ]
  },
  {
   "cell_type": "code",
   "execution_count": 252,
   "metadata": {},
   "outputs": [],
   "source": [
    "# 7. XGBoost Model\n",
    "xgb_model = XGBRegressor(random_state=random_state)\n",
    "xgb_model.fit(X_train, y_train)\n",
    "xgb_predictions = xgb_model.predict(X_test)"
   ]
  },
  {
   "cell_type": "code",
   "execution_count": 253,
   "metadata": {},
   "outputs": [],
   "source": [
    "# Evaluate XGBoost model\n",
    "xgb_mae = mean_absolute_error(y_test, xgb_predictions)\n",
    "xgb_mse = mean_squared_error(y_test, xgb_predictions)\n",
    "xgb_r2 = r2_score(y_test, xgb_predictions)\n"
   ]
  },
  {
   "cell_type": "code",
   "execution_count": 254,
   "metadata": {},
   "outputs": [
    {
     "name": "stdout",
     "output_type": "stream",
     "text": [
      "XGBoost Model:\n",
      "Mean Absolute Error: 1624963.4977964743\n",
      "Mean Squared Error: 15999254449299.773\n",
      "R-squared: 0.8254737851677351\n",
      "\n"
     ]
    }
   ],
   "source": [
    "print(\"XGBoost Model:\")\n",
    "print(f\"Mean Absolute Error: {xgb_mae}\")\n",
    "print(f\"Mean Squared Error: {xgb_mse}\")\n",
    "print(f\"R-squared: {xgb_r2}\\n\")"
   ]
  },
  {
   "cell_type": "code",
   "execution_count": 255,
   "metadata": {},
   "outputs": [
    {
     "name": "stdout",
     "output_type": "stream",
     "text": [
      "[LightGBM] [Warning] Found whitespace in feature_names, replace with underlines\n",
      "[LightGBM] [Info] Auto-choosing row-wise multi-threading, the overhead of testing was 0.263137 seconds.\n",
      "You can set `force_row_wise=true` to remove the overhead.\n",
      "And if memory is not enough, you can set `force_col_wise=true`.\n",
      "[LightGBM] [Info] Total Bins 576\n",
      "[LightGBM] [Info] Number of data points in the train set: 3744, number of used features: 6\n",
      "[LightGBM] [Info] Start training from score 10001098.946314\n"
     ]
    }
   ],
   "source": [
    "# 8. LightGBM Model\n",
    "lgbm_model = LGBMRegressor(random_state=random_state)\n",
    "lgbm_model.fit(X_train, y_train)\n",
    "lgbm_predictions = lgbm_model.predict(X_test)"
   ]
  },
  {
   "cell_type": "code",
   "execution_count": 256,
   "metadata": {},
   "outputs": [],
   "source": [
    "# Evaluate LightGBM model\n",
    "lgbm_mae = mean_absolute_error(y_test, lgbm_predictions)\n",
    "lgbm_mse = mean_squared_error(y_test, lgbm_predictions)\n",
    "lgbm_r2 = r2_score(y_test, lgbm_predictions)\n"
   ]
  },
  {
   "cell_type": "code",
   "execution_count": 257,
   "metadata": {},
   "outputs": [
    {
     "name": "stdout",
     "output_type": "stream",
     "text": [
      "LightGBM Model:\n",
      "Mean Absolute Error: 1703656.169709199\n",
      "Mean Squared Error: 15726989639441.65\n",
      "R-squared: 0.8284437577278405\n"
     ]
    }
   ],
   "source": [
    "print(\"LightGBM Model:\")\n",
    "print(f\"Mean Absolute Error: {lgbm_mae}\")\n",
    "print(f\"Mean Squared Error: {lgbm_mse}\")\n",
    "print(f\"R-squared: {lgbm_r2}\")"
   ]
  },
  {
   "cell_type": "code",
   "execution_count": 258,
   "metadata": {},
   "outputs": [
    {
     "data": {
      "text/html": [
       "<div>\n",
       "<style scoped>\n",
       "    .dataframe tbody tr th:only-of-type {\n",
       "        vertical-align: middle;\n",
       "    }\n",
       "\n",
       "    .dataframe tbody tr th {\n",
       "        vertical-align: top;\n",
       "    }\n",
       "\n",
       "    .dataframe thead th {\n",
       "        text-align: right;\n",
       "    }\n",
       "</style>\n",
       "<table border=\"1\" class=\"dataframe\">\n",
       "  <thead>\n",
       "    <tr style=\"text-align: right;\">\n",
       "      <th></th>\n",
       "      <th>Model</th>\n",
       "      <th>Mean Absolute Error</th>\n",
       "      <th>Mean Squared Error</th>\n",
       "      <th>R-squared</th>\n",
       "    </tr>\n",
       "  </thead>\n",
       "  <tbody>\n",
       "    <tr>\n",
       "      <th>0</th>\n",
       "      <td>Linear Regression</td>\n",
       "      <td>3442509.783236</td>\n",
       "      <td>38339350324442.039062</td>\n",
       "      <td>0.581779</td>\n",
       "    </tr>\n",
       "    <tr>\n",
       "      <th>1</th>\n",
       "      <td>Decision Tree</td>\n",
       "      <td>1910511.684116</td>\n",
       "      <td>28082623193487.410156</td>\n",
       "      <td>0.693664</td>\n",
       "    </tr>\n",
       "    <tr>\n",
       "      <th>2</th>\n",
       "      <td>Random Forest</td>\n",
       "      <td>1550345.726932</td>\n",
       "      <td>15613324938029.072266</td>\n",
       "      <td>0.829684</td>\n",
       "    </tr>\n",
       "    <tr>\n",
       "      <th>3</th>\n",
       "      <td>K-Nearest Neighbors (KNN)</td>\n",
       "      <td>1941915.666239</td>\n",
       "      <td>20735168527090.316406</td>\n",
       "      <td>0.773813</td>\n",
       "    </tr>\n",
       "    <tr>\n",
       "      <th>4</th>\n",
       "      <td>Support Vector Machine (SVM)</td>\n",
       "      <td>5049360.640683</td>\n",
       "      <td>100335839800140.109375</td>\n",
       "      <td>-0.094503</td>\n",
       "    </tr>\n",
       "    <tr>\n",
       "      <th>5</th>\n",
       "      <td>Gradient Boosting</td>\n",
       "      <td>1993652.823015</td>\n",
       "      <td>16496248067779.414062</td>\n",
       "      <td>0.820052</td>\n",
       "    </tr>\n",
       "    <tr>\n",
       "      <th>6</th>\n",
       "      <td>XGBoost</td>\n",
       "      <td>1624963.497796</td>\n",
       "      <td>15999254449299.773438</td>\n",
       "      <td>0.825474</td>\n",
       "    </tr>\n",
       "    <tr>\n",
       "      <th>7</th>\n",
       "      <td>LightGBM</td>\n",
       "      <td>1703656.169709</td>\n",
       "      <td>15726989639441.650391</td>\n",
       "      <td>0.828444</td>\n",
       "    </tr>\n",
       "  </tbody>\n",
       "</table>\n",
       "</div>"
      ],
      "text/plain": [
       "                          Model  Mean Absolute Error     Mean Squared Error  \\\n",
       "0             Linear Regression       3442509.783236  38339350324442.039062   \n",
       "1                 Decision Tree       1910511.684116  28082623193487.410156   \n",
       "2                 Random Forest       1550345.726932  15613324938029.072266   \n",
       "3     K-Nearest Neighbors (KNN)       1941915.666239  20735168527090.316406   \n",
       "4  Support Vector Machine (SVM)       5049360.640683 100335839800140.109375   \n",
       "5             Gradient Boosting       1993652.823015  16496248067779.414062   \n",
       "6                       XGBoost       1624963.497796  15999254449299.773438   \n",
       "7                      LightGBM       1703656.169709  15726989639441.650391   \n",
       "\n",
       "   R-squared  \n",
       "0   0.581779  \n",
       "1   0.693664  \n",
       "2   0.829684  \n",
       "3   0.773813  \n",
       "4  -0.094503  \n",
       "5   0.820052  \n",
       "6   0.825474  \n",
       "7   0.828444  "
      ]
     },
     "execution_count": 258,
     "metadata": {},
     "output_type": "execute_result"
    }
   ],
   "source": [
    "# Create a DataFrame to store evaluation metrics\n",
    "metrics_df = pd.DataFrame(columns=['Model', 'Mean Absolute Error', 'Mean Squared Error', 'R-squared'])\n",
    "\n",
    "# Function to add metrics for a model to the DataFrame\n",
    "\n",
    "def add_metrics(model_name, mae, mse, r2):\n",
    "    global metrics_df\n",
    "    new_row = {'Model': model_name, 'Mean Absolute Error': mae, 'Mean Squared Error': mse, 'R-squared': r2}\n",
    "    metrics_df = pd.concat([metrics_df, pd.DataFrame([new_row])], ignore_index=True)  # Use concat instead of append\n",
    "\n",
    "# ... (Rest of your code)\n",
    "\n",
    "\n",
    "# Add metrics for each model\n",
    "add_metrics('Linear Regression', linear_mae, linear_mse, linear_r2)\n",
    "add_metrics('Decision Tree', dt_mae, dt_mse, dt_r2)\n",
    "add_metrics('Random Forest', rf_mae, rf_mse, rf_r2)\n",
    "add_metrics('K-Nearest Neighbors (KNN)', knn_mae, knn_mse, knn_r2)\n",
    "add_metrics('Support Vector Machine (SVM)', svm_mae, svm_mse, svm_r2)\n",
    "add_metrics('Gradient Boosting', gb_mae, gb_mse, gb_r2)\n",
    "add_metrics('XGBoost', xgb_mae, xgb_mse, xgb_r2)\n",
    "add_metrics('LightGBM', lgbm_mae, lgbm_mse, lgbm_r2)\n",
    "\n",
    "# Display the metrics DataFrame\n",
    "metrics_df\n"
   ]
  },
  {
   "cell_type": "markdown",
   "metadata": {},
   "source": [
    "### 5.3 Saving models"
   ]
  },
  {
   "cell_type": "code",
   "execution_count": 260,
   "metadata": {},
   "outputs": [
    {
     "name": "stdout",
     "output_type": "stream",
     "text": [
      "Linear Regression model saved to: ../models/linear_regression_model.pkl\n",
      "Decision Tree model saved to: ../models/decision_tree_model.pkl\n",
      "Decision Tree model saved to: ../models/decision_tree_model.pkl\n",
      "Random Forest model saved to: ../models/random_forest_model.pkl\n",
      "K-Nearest Neighbors (KNN) model saved to: ../models/k-nearest_neighbors_(knn)_model.pkl\n",
      "Support Vector Machine (SVM) model saved to: ../models/support_vector_machine_(svm)_model.pkl\n",
      "Gradient Boosting model saved to: ../models/gradient_boosting_model.pkl\n",
      "XGBoost model saved to: ../models/xgboost_model.pkl\n",
      "LightGBM model saved to: ../models/lightgbm_model.pkl\n"
     ]
    }
   ],
   "source": [
    "\n",
    "# Saving Models on models folder\n",
    "# List of models\n",
    "models = [\n",
    "    ('Linear Regression', linear_model),\n",
    "    ('Decision Tree', decision_tree_model),\n",
    "    ('Decision Tree', decision_tree_model),\n",
    "    ('Random Forest', random_forest_model),\n",
    "    ('K-Nearest Neighbors (KNN)', knn_model),\n",
    "    ('Support Vector Machine (SVM)', svm_model),\n",
    "    ('Gradient Boosting', gradient_boosting_model),\n",
    "    ('XGBoost', xgb_model),\n",
    "    ('LightGBM', lgbm_model),\n",
    "    # Add other models if needed\n",
    "]\n",
    "\n",
    "# Save each model\n",
    "for model_name, model in models:\n",
    "    model_path = f'../models/{model_name.lower().replace(\" \", \"_\")}_model.pkl'\n",
    "    joblib.dump(model, model_path)\n",
    "    print(f'{model_name} model saved to: {model_path}')\n"
   ]
  },
  {
   "cell_type": "markdown",
   "metadata": {},
   "source": [
    "### 5.5 Loading Models"
   ]
  },
  {
   "cell_type": "code",
   "execution_count": 261,
   "metadata": {},
   "outputs": [
    {
     "name": "stdout",
     "output_type": "stream",
     "text": [
      "Linear Regression model loaded from: ../models/linear_regression_model.pkl\n",
      "Decision Tree model loaded from: ../models/decision_tree_model.pkl\n",
      "Random Forest model loaded from: ../models/random_forest_model.pkl\n",
      "K-Nearest Neighbors (KNN) model loaded from: ../models/k-nearest_neighbors_(knn)_model.pkl\n",
      "Support Vector Machine (SVM) model loaded from: ../models/support_vector_machine_(svm)_model.pkl\n",
      "Gradient Boosting model loaded from: ../models/gradient_boosting_model.pkl\n",
      "XGBoost model loaded from: ../models/xgboost_model.pkl\n",
      "LightGBM model loaded from: ../models/lightgbm_model.pkl\n"
     ]
    }
   ],
   "source": [
    "# Import necessary libraries\n",
    "import joblib\n",
    "\n",
    "# List of models and their corresponding paths\n",
    "models_info = [\n",
    "    ('Linear Regression', '../models/linear_regression_model.pkl'),\n",
    "    ('Decision Tree', '../models/decision_tree_model.pkl'),\n",
    "    ('Random Forest', '../models/random_forest_model.pkl'),\n",
    "    ('K-Nearest Neighbors (KNN)', '../models/k-nearest_neighbors_(knn)_model.pkl'),\n",
    "    ('Support Vector Machine (SVM)', '../models/support_vector_machine_(svm)_model.pkl'),\n",
    "    ('Gradient Boosting', '../models/gradient_boosting_model.pkl'),\n",
    "    ('XGBoost', '../models/xgboost_model.pkl'),\n",
    "    ('LightGBM', '../models/lightgbm_model.pkl'),\n",
    "    # Add other models if needed\n",
    "]\n",
    "\n",
    "# Load each model\n",
    "loaded_models = {}\n",
    "for model_name, model_path in models_info:\n",
    "    loaded_model = joblib.load(model_path)\n",
    "    loaded_models[model_name] = loaded_model\n",
    "    print(f'{model_name} model loaded from: {model_path}')\n",
    "\n",
    "# Now, you can use the loaded_models dictionary to access each model as needed\n",
    "# For example, loaded_models['Linear Regression'].predict(X_test)\n"
   ]
  },
  {
   "cell_type": "code",
   "execution_count": 262,
   "metadata": {},
   "outputs": [
    {
     "data": {
      "text/html": [
       "<style>#sk-container-id-4 {color: black;}#sk-container-id-4 pre{padding: 0;}#sk-container-id-4 div.sk-toggleable {background-color: white;}#sk-container-id-4 label.sk-toggleable__label {cursor: pointer;display: block;width: 100%;margin-bottom: 0;padding: 0.3em;box-sizing: border-box;text-align: center;}#sk-container-id-4 label.sk-toggleable__label-arrow:before {content: \"▸\";float: left;margin-right: 0.25em;color: #696969;}#sk-container-id-4 label.sk-toggleable__label-arrow:hover:before {color: black;}#sk-container-id-4 div.sk-estimator:hover label.sk-toggleable__label-arrow:before {color: black;}#sk-container-id-4 div.sk-toggleable__content {max-height: 0;max-width: 0;overflow: hidden;text-align: left;background-color: #f0f8ff;}#sk-container-id-4 div.sk-toggleable__content pre {margin: 0.2em;color: black;border-radius: 0.25em;background-color: #f0f8ff;}#sk-container-id-4 input.sk-toggleable__control:checked~div.sk-toggleable__content {max-height: 200px;max-width: 100%;overflow: auto;}#sk-container-id-4 input.sk-toggleable__control:checked~label.sk-toggleable__label-arrow:before {content: \"▾\";}#sk-container-id-4 div.sk-estimator input.sk-toggleable__control:checked~label.sk-toggleable__label {background-color: #d4ebff;}#sk-container-id-4 div.sk-label input.sk-toggleable__control:checked~label.sk-toggleable__label {background-color: #d4ebff;}#sk-container-id-4 input.sk-hidden--visually {border: 0;clip: rect(1px 1px 1px 1px);clip: rect(1px, 1px, 1px, 1px);height: 1px;margin: -1px;overflow: hidden;padding: 0;position: absolute;width: 1px;}#sk-container-id-4 div.sk-estimator {font-family: monospace;background-color: #f0f8ff;border: 1px dotted black;border-radius: 0.25em;box-sizing: border-box;margin-bottom: 0.5em;}#sk-container-id-4 div.sk-estimator:hover {background-color: #d4ebff;}#sk-container-id-4 div.sk-parallel-item::after {content: \"\";width: 100%;border-bottom: 1px solid gray;flex-grow: 1;}#sk-container-id-4 div.sk-label:hover label.sk-toggleable__label {background-color: #d4ebff;}#sk-container-id-4 div.sk-serial::before {content: \"\";position: absolute;border-left: 1px solid gray;box-sizing: border-box;top: 0;bottom: 0;left: 50%;z-index: 0;}#sk-container-id-4 div.sk-serial {display: flex;flex-direction: column;align-items: center;background-color: white;padding-right: 0.2em;padding-left: 0.2em;position: relative;}#sk-container-id-4 div.sk-item {position: relative;z-index: 1;}#sk-container-id-4 div.sk-parallel {display: flex;align-items: stretch;justify-content: center;background-color: white;position: relative;}#sk-container-id-4 div.sk-item::before, #sk-container-id-4 div.sk-parallel-item::before {content: \"\";position: absolute;border-left: 1px solid gray;box-sizing: border-box;top: 0;bottom: 0;left: 50%;z-index: -1;}#sk-container-id-4 div.sk-parallel-item {display: flex;flex-direction: column;z-index: 1;position: relative;background-color: white;}#sk-container-id-4 div.sk-parallel-item:first-child::after {align-self: flex-end;width: 50%;}#sk-container-id-4 div.sk-parallel-item:last-child::after {align-self: flex-start;width: 50%;}#sk-container-id-4 div.sk-parallel-item:only-child::after {width: 0;}#sk-container-id-4 div.sk-dashed-wrapped {border: 1px dashed gray;margin: 0 0.4em 0.5em 0.4em;box-sizing: border-box;padding-bottom: 0.4em;background-color: white;}#sk-container-id-4 div.sk-label label {font-family: monospace;font-weight: bold;display: inline-block;line-height: 1.2em;}#sk-container-id-4 div.sk-label-container {text-align: center;}#sk-container-id-4 div.sk-container {/* jupyter's `normalize.less` sets `[hidden] { display: none; }` but bootstrap.min.css set `[hidden] { display: none !important; }` so we also need the `!important` here to be able to override the default hidden behavior on the sphinx rendered scikit-learn.org. See: https://github.com/scikit-learn/scikit-learn/issues/21755 */display: inline-block !important;position: relative;}#sk-container-id-4 div.sk-text-repr-fallback {display: none;}</style><div id=\"sk-container-id-4\" class=\"sk-top-container\"><div class=\"sk-text-repr-fallback\"><pre>LGBMRegressor(random_state=42)</pre><b>In a Jupyter environment, please rerun this cell to show the HTML representation or trust the notebook. <br />On GitHub, the HTML representation is unable to render, please try loading this page with nbviewer.org.</b></div><div class=\"sk-container\" hidden><div class=\"sk-item\"><div class=\"sk-estimator sk-toggleable\"><input class=\"sk-toggleable__control sk-hidden--visually\" id=\"sk-estimator-id-4\" type=\"checkbox\" checked><label for=\"sk-estimator-id-4\" class=\"sk-toggleable__label sk-toggleable__label-arrow\">LGBMRegressor</label><div class=\"sk-toggleable__content\"><pre>LGBMRegressor(random_state=42)</pre></div></div></div></div></div>"
      ],
      "text/plain": [
       "LGBMRegressor(random_state=42)"
      ]
     },
     "execution_count": 262,
     "metadata": {},
     "output_type": "execute_result"
    }
   ],
   "source": [
    "# Load the model\n",
    "loaded_model = joblib.load(\"../models/lightgbm_model.pkl\")\n",
    "loaded_model"
   ]
  },
  {
   "cell_type": "code",
   "execution_count": 263,
   "metadata": {},
   "outputs": [],
   "source": [
    "# Provide new data for prediction\n",
    "new_data = pd.DataFrame({\n",
    "    'No. Beds': [2.0],\n",
    "    'No. Baths': [2.0],\n",
    "    'Area': [1000.0],\n",
    "})\n"
   ]
  },
  {
   "cell_type": "code",
   "execution_count": 271,
   "metadata": {},
   "outputs": [
    {
     "name": "stdout",
     "output_type": "stream",
     "text": [
      "Predicted Price for the new data: 26074699.18101142\n"
     ]
    }
   ],
   "source": [
    "# Make predictions on the new data\n",
    "predictions = loaded_model.predict(test_data)\n",
    "print(f'Predicted Price for the new data: {predictions[1]}')\n"
   ]
  },
  {
   "cell_type": "code",
   "execution_count": 266,
   "metadata": {},
   "outputs": [
    {
     "name": "stdout",
     "output_type": "stream",
     "text": [
      "   No. Beds  No. Baths        Area  Type_n  Region_n  Sub-region_n\n",
      "0  2.000000   2.000000  735.000000       0         3           432\n",
      "1  3.000000   3.000000 3640.000000       3         1            60\n",
      "2  3.000000   2.000000 1110.000000       0        31           125\n",
      "3  3.000000   3.000000 1450.000000       0        20           297\n",
      "4  3.000000   3.000000 1066.000000       0        12           209\n",
      "5  3.000000   2.000000 1185.000000       0        40           284\n",
      "6  3.000000   4.000000 1406.000000       0        15           310\n",
      "7  2.000000   2.000000  650.000000       0        40           342\n",
      "8  3.000000   3.000000 1250.000000       0        13           113\n",
      "9  2.000000   2.000000  620.000000       0        35           134\n"
     ]
    }
   ],
   "source": [
    "import pandas as pd\n",
    "\n",
    "test_data = pd.DataFrame({\n",
    "    'No. Beds': [2.0, 3.0, 3.0, 3.0, 3.0, 3.0, 3.0, 2.0, 3.0, 2.0],\n",
    "    'No. Baths': [2.0, 3.0, 2.0, 3.0, 3.0, 2.0, 4.0, 2.0, 3.0, 2.0],\n",
    "    'Area': [735.0, 3640.0, 1110.0, 1450.0, 1066.0, 1185.0, 1406.0, 650.0, 1250.0, 620.0],\n",
    "    'Type_n': [0, 3, 0, 0, 0, 0, 0, 0, 0, 0],\n",
    "    'Region_n': [3, 1, 31, 20, 12, 40, 15, 40, 13, 35],\n",
    "    'Sub-region_n': [432, 60, 125, 297, 209, 284, 310, 342, 113, 134]\n",
    "})\n",
    "\n",
    "print(test_data)\n"
   ]
  },
  {
   "cell_type": "code",
   "execution_count": null,
   "metadata": {},
   "outputs": [],
   "source": [
    "i did write this code for deploying my house price prediction project\n",
    "{\n",
    "# app.py\n",
    "from flask import Flask, render_template, request\n",
    "import pandas as pd\n",
    "import joblib\n",
    "\n",
    "app = Flask(__name__)\n",
    "\n",
    "# Load the model\n",
    "loaded_model = joblib.load(\"../models/lightgbm_model.pkl\")\n",
    "\n",
    "# Render the main page\n",
    "@app.route('/')\n",
    "def index():\n",
    "    return render_template('index.html')\n",
    "\n",
    "# Handle the form submission\n",
    "@app.route('/predict', methods=['POST'])\n",
    "def predict():\n",
    "    if request.method == 'POST':\n",
    "        # Get the form data\n",
    "        no_of_beds = float(request.form['no_of_beds'])\n",
    "        no_of_baths = float(request.form['no_of_baths'])\n",
    "        area = float(request.form['area'])\n",
    "\n",
    "        # Create a DataFrame with the new data\n",
    "        new_data = pd.DataFrame({\n",
    "            'No. Beds': [no_of_beds],\n",
    "            'No. Baths': [no_of_baths],\n",
    "            'Area': [area],\n",
    "            'Type_n': [0],  # Assuming Type_n is a categorical feature\n",
    "            'Region_n': [3],  # Assuming Region_n is a categorical feature\n",
    "            'Sub-region_n': [432]  # Assuming Sub-region_n is a categorical feature\n",
    "        })\n",
    "\n",
    "        # Make predictions using the loaded model\n",
    "        predictions = loaded_model.predict(new_data)\n",
    "\n",
    "        # Display the result on the prediction page\n",
    "        return render_template('prediction.html', prediction=predictions[0])\n",
    "\n",
    "if __name__ == '__main__':\n",
    "    app.run(debug=True)\n",
    "\n",
    "\n",
    "# templates/index.html\n",
    "<!DOCTYPE html>\n",
    "<html lang=\"en\">\n",
    "<head>\n",
    "    <meta charset=\"UTF-8\">\n",
    "    <meta name=\"viewport\" content=\"width=device-width, initial-scale=1.0\">\n",
    "    <title>House Price Prediction</title>\n",
    "    <style>\n",
    "        body {\n",
    "            font-family: 'Arial', sans-serif;\n",
    "            background-color: #f4f4f4;\n",
    "            margin: 0;\n",
    "            padding: 0;\n",
    "            display: flex;\n",
    "            align-items: center;\n",
    "            justify-content: center;\n",
    "            height: 100vh;\n",
    "        }\n",
    "\n",
    "        .container {\n",
    "            background-color: #fff;\n",
    "            padding: 20px;\n",
    "            border-radius: 8px;\n",
    "            box-shadow: 0 0 10px rgba(0, 0, 0, 0.1);\n",
    "            text-align: center;\n",
    "        }\n",
    "\n",
    "        .form-group {\n",
    "            margin-bottom: 15px;\n",
    "        }\n",
    "\n",
    "        label {\n",
    "            display: block;\n",
    "            font-size: 16px;\n",
    "            margin-bottom: 5px;\n",
    "        }\n",
    "\n",
    "        input, select {\n",
    "            width: 100%;\n",
    "            padding: 10px;\n",
    "            font-size: 16px;\n",
    "            border: 1px solid #ccc;\n",
    "            border-radius: 4px;\n",
    "            box-sizing: border-box;\n",
    "        }\n",
    "\n",
    "        button {\n",
    "            background-color: #4CAF50;\n",
    "            color: white;\n",
    "            padding: 15px 20px;\n",
    "            font-size: 16px;\n",
    "            border: none;\n",
    "            border-radius: 4px;\n",
    "            cursor: pointer;\n",
    "        }\n",
    "    </style>\n",
    "</head>\n",
    "<body>\n",
    "    <div class=\"container\">\n",
    "        <h1>House Price Prediction</h1>\n",
    "        <form action=\"/predict\" method=\"post\">\n",
    "            <div class=\"form-group\">\n",
    "                <label for=\"no_of_beds\">No. of Beds:</label>\n",
    "                <input type=\"number\" name=\"no_of_beds\" required>\n",
    "            </div>\n",
    "\n",
    "            <div class=\"form-group\">\n",
    "                <label for=\"no_of_baths\">No. of Baths:</label>\n",
    "                <input type=\"number\" name=\"no_of_baths\" required>\n",
    "            </div>\n",
    "\n",
    "            <div class=\"form-group\">\n",
    "                <label for=\"area\">Area:</label>\n",
    "                <input type=\"number\" name=\"area\" required>\n",
    "            </div>\n",
    "\n",
    "            <div class=\"form-group\">\n",
    "                <label for=\"type_n\">Type:</label>\n",
    "                <select name=\"type_n\" required>\n",
    "                    <option value=\"0\">Type 0</option>\n",
    "                    <option value=\"1\">Type 1</option>\n",
    "                    <!-- Add more options as needed -->\n",
    "                </select>\n",
    "            </div>\n",
    "\n",
    "            <div class=\"form-group\">\n",
    "                <label for=\"region_n\">Region:</label>\n",
    "                <select name=\"region_n\" required>\n",
    "                    <option value=\"0\">Region 0</option>\n",
    "                    <option value=\"1\">Region 1</option>\n",
    "                    <!-- Add more options as needed -->\n",
    "                </select>\n",
    "            </div>\n",
    "\n",
    "            <div class=\"form-group\">\n",
    "                <label for=\"sub_region_n\">Sub-region:</label>\n",
    "                <select name=\"sub_region_n\" required>\n",
    "                    <option value=\"0\">Sub-region 0</option>\n",
    "                    <option value=\"1\">Sub-region 1</option>\n",
    "                    <!-- Add more options as needed -->\n",
    "                </select>\n",
    "            </div>\n",
    "\n",
    "            <button type=\"submit\">Predict</button>\n",
    "        </form>\n",
    "    </div>\n",
    "</body>\n",
    "</html>\n",
    "\n",
    "\n",
    "# templates/prediction.html\n",
    "<!DOCTYPE html>\n",
    "<html lang=\"en\">\n",
    "<head>\n",
    "    <meta charset=\"UTF-8\">\n",
    "    <meta name=\"viewport\" content=\"width=device-width, initial-scale=1.0\">\n",
    "    <title>Prediction Result</title>\n",
    "    <style>\n",
    "        body {\n",
    "            font-family: 'Arial', sans-serif;\n",
    "            background-color: #f4f4f4;\n",
    "            margin: 0;\n",
    "            padding: 0;\n",
    "            display: flex;\n",
    "            align-items: center;\n",
    "            justify-content: center;\n",
    "            height: 100vh;\n",
    "        }\n",
    "\n",
    "        .container {\n",
    "            background-color: #fff;\n",
    "            padding: 20px;\n",
    "            border-radius: 8px;\n",
    "            box-shadow: 0 0 10px rgba(0, 0, 0, 0.1);\n",
    "            text-align: center;\n",
    "        }\n",
    "\n",
    "        h1 {\n",
    "            color: #4CAF50;\n",
    "        }\n",
    "\n",
    "        .result {\n",
    "            font-size: 24px;\n",
    "            margin-top: 20px;\n",
    "        }\n",
    "\n",
    "        a {\n",
    "            display: inline-block;\n",
    "            margin-top: 20px;\n",
    "            text-decoration: none;\n",
    "            color: #4CAF50;\n",
    "            font-weight: bold;\n",
    "        }\n",
    "\n",
    "        a:hover {\n",
    "            text-decoration: underline;\n",
    "        }\n",
    "    </style>\n",
    "</head>\n",
    "<body>\n",
    "    <div class=\"container\">\n",
    "        <h1>Prediction Result</h1>\n",
    "        <div class=\"result\">\n",
    "            <p>The predicted house price is: {{ prediction }}</p>\n",
    "        </div>\n",
    "        <a href=\"/\">Go back to the main page</a>\n",
    "    </div>\n",
    "</body>\n",
    "</html>\n",
    "}, here the problem is in Type, Region and Sub-region there showing number not exact type or name. how to solve this issue?"
   ]
  },
  {
   "cell_type": "code",
   "execution_count": null,
   "metadata": {},
   "outputs": [],
   "source": []
  }
 ],
 "metadata": {
  "kernelspec": {
   "display_name": "Python 3",
   "language": "python",
   "name": "python3"
  },
  "language_info": {
   "codemirror_mode": {
    "name": "ipython",
    "version": 3
   },
   "file_extension": ".py",
   "mimetype": "text/x-python",
   "name": "python",
   "nbconvert_exporter": "python",
   "pygments_lexer": "ipython3",
   "version": "3.11.4"
  }
 },
 "nbformat": 4,
 "nbformat_minor": 2
}
